{
 "cells": [
  {
   "cell_type": "code",
   "execution_count": 1,
   "metadata": {
    "collapsed": true
   },
   "outputs": [],
   "source": [
    "from nltk.corpus.reader.plaintext import PlaintextCorpusReader"
   ]
  },
  {
   "cell_type": "code",
   "execution_count": 2,
   "metadata": {
    "collapsed": false,
    "scrolled": true
   },
   "outputs": [],
   "source": [
    "import json\n",
    "\n",
    "with open(\"../data/final_texts.json\", \"r\") as f1:\n",
    "    with open(\"../data/signpost_corpus.txt\", \"w\") as f2:\n",
    "        f2.write(str(\"\\n\\n\".join([\"\\n\".join(block['text']) for block in json.loads(f1.read())]).encode('utf-8')))"
   ]
  },
  {
   "cell_type": "code",
   "execution_count": 3,
   "metadata": {
    "collapsed": true
   },
   "outputs": [],
   "source": [
    "import nltk"
   ]
  },
  {
   "cell_type": "code",
   "execution_count": 4,
   "metadata": {
    "collapsed": false
   },
   "outputs": [],
   "source": [
    "import nltk\n",
    "from nltk.corpus.reader.plaintext import PlaintextCorpusReader\n",
    "import io\n",
    "\n",
    "corpus = PlaintextCorpusReader('../data/', '.*')"
   ]
  },
  {
   "cell_type": "code",
   "execution_count": 5,
   "metadata": {
    "collapsed": false
   },
   "outputs": [],
   "source": [
    "with open(\"../data/signpost_corpus.txt\", \"r\") as f:\n",
    "    signpost = nltk.Text(nltk.word_tokenize(f.read()))"
   ]
  },
  {
   "cell_type": "markdown",
   "metadata": {},
   "source": [
    "Find context around words:"
   ]
  },
  {
   "cell_type": "code",
   "execution_count": 6,
   "metadata": {
    "collapsed": false
   },
   "outputs": [
    {
     "name": "stdout",
     "output_type": "stream",
     "text": [
      "Displaying 25 of 2350 matches:\n",
      " an incredible resource that can help WMF and my feeling is that their raw ener\n",
      "can always be better utilized . While WMF has some financial resources for a mi\n",
      "ividuals and other entities donate to WMF because they believe in Wikipedia and\n",
      "een a plus . What is incredible about WMF is that we can all communicate with e\n",
      "eeds of the many communities that the WMF serves.\\nWhat do you think of the Wik\n",
      ", what would you change ? \\nGenerally WMF has been extremely successful in fulf\n",
      "ventually it might be a good idea for WMF to have a permanent home ( and not ju\n",
      "place . I think it\\ 's very important WMF evolves its linguistic policy so that\n",
      "ns . So IMHO the current main task of WMF towards equality of communities is ( \n",
      "ions of the staff and the community . WMF must be who will support innovative i\n",
      "e community . Without our community , WMF would be called Numedia Foundation\\xc\n",
      "e reasons for my resignation from the WMF office team . I plan on remaining an \n",
      "een , even before I began working for WMF . To ensure that there are no misunde\n",
      "r 19 and 20 , organised by the French WMF chapter . Some users from the English\n",
      "services doesn\\'t really suggest that WMF underallocates towards core service d\n",
      "everything beyond hosting . 2 ) Build WMF into a mission-driven non-profit that\n",
      "terested/willing joining the board of WMF ( as appointed or as elected ) , and \n",
      "dings over it , as seen here . As the WMF and the community hasn\\'t taken actio\n",
      "diaWiki ( technical ) and liason with WMF ( policy ) in order to provide an opt\n",
      "r was first reported to have sued the WMF ( among others ) in March 2007 , but \n",
      "mmunications Decency Act protects the WMF from liability , as an `` interactive\n",
      "rols published content ( although the WMF is one of many users of the service )\n",
      "ns of the Wikipedia community and the WMF regarding treatment of material invol\n",
      "with respect to the relationship with WMF , some with the closer to home UK ban\n",
      " . There were 19 speakers , including WMF board member Jan-Bart de Vreede , Phi\n"
     ]
    }
   ],
   "source": [
    "signpost.concordance(\"WMF\")"
   ]
  },
  {
   "cell_type": "markdown",
   "metadata": {},
   "source": [
    "Men versus women in the *Signpost*."
   ]
  },
  {
   "cell_type": "code",
   "execution_count": 7,
   "metadata": {
    "collapsed": false
   },
   "outputs": [
    {
     "name": "stdout",
     "output_type": "stream",
     "text": [
      "disabled; disabled; disabled; ); ); ); single; dead; young; young;\n",
      "young; young; bad; sleeping; complicated; religious; Vietnamese;\n",
      "young; young; masked; ``; single; polished; young; young; fascinating;\n",
      "young; military; wealthy; poor; dead; thirty-year-old; naked; wealthy;\n",
      "]; black; white\n"
     ]
    }
   ],
   "source": [
    "import re\n",
    "signpost.findall(r\"<a> (<.*>) <man>\")"
   ]
  },
  {
   "cell_type": "code",
   "execution_count": 8,
   "metadata": {
    "collapsed": false
   },
   "outputs": [
    {
     "name": "stdout",
     "output_type": "stream",
     "text": [
      "Korean; battered; business; pig-faced; young; Maasai; striking;\n",
      "married; Puritan; prominent; trans; good; Cherokee; multi-talented;\n",
      "black; young; young; naked; young; humanoid; Pakistani; young;\n",
      "pregnant; half-naked; young; young; young; trans; trans; trans;\n",
      "transgender; peasant; trans; half-naked; young; near-naked;\n",
      "remarkable; near-nude; Sudanese; captive; white\n"
     ]
    }
   ],
   "source": [
    "signpost.findall(r\"<a> (<.*>) <woman>\")"
   ]
  },
  {
   "cell_type": "markdown",
   "metadata": {},
   "source": [
    "So a lot of the work done in NLP comes down to \"find the right regex for the thing\"."
   ]
  },
  {
   "cell_type": "code",
   "execution_count": 9,
   "metadata": {
    "collapsed": false
   },
   "outputs": [
    {
     "name": "stdout",
     "output_type": "stream",
     "text": [
      "real; WP; Wikipedia; network; Wikipedia; trusted; fifth; Wikipedia;\n",
      "Wikipedia; human; former; fellow; Wikinews; Wikipedia; system; system;\n",
      "dire; former; former; single; 13-year-old; new; chapter.\\nNew; new;\n",
      "new; sports; new; wiki; system; new; volunteer; system; site;\n",
      "volunteer; Swiss; Wikipedia; local; Wikipedia; veteran; Wikipedia;\n",
      "Wikipedia; Wikipedia; Wikipedia; Wikipedia; Wikipedia; Wikipedia;\n",
      "Wikipedia; trusted; Wikipedia; Wikipedia; Wikipedia; volunteer;\n",
      "volunteer\n"
     ]
    }
   ],
   "source": [
    "signpost.findall(r\"<a> (<.*>) <administrator>\")"
   ]
  },
  {
   "cell_type": "code",
   "execution_count": 10,
   "metadata": {
    "collapsed": false
   },
   "outputs": [
    {
     "name": "stdout",
     "output_type": "stream",
     "text": [
      "``; Norwegian; Nynorsk; Bokm\\xc3\\xa5l-only; third; ``; popular;\n",
      "forthcoming; free; good; test; new; Cantonese; walking; Swiss; spoken;\n",
      "Japanese; modified; vandalized; new; certain; German; random;\n",
      "particular; given; vandalised; curious; Model; typical; typical;\n",
      "worthwhile; ``; b; given; given; poor; Neuroscience; recent;\n",
      "celebrity\\xe2\\x80\\x99s; perception; frequent; full; single; Kiswahili;\n",
      "Kiswahili; local; ``; helpful; casual; new; special; new; ``; typical;\n",
      "popular; Persian; frequent; ``; ``; ``; single; ``; ``; ``; possible;\n",
      "fundamental; long-term; longtime; given; diversity-minded; ``;\n",
      "simulated; new; new; single; Hindi; specific; ``; simple;\n",
      "corresponding; young; 28-page; self-professed; frequent; related;\n",
      "casual; given; given; regular; good; Culinary; new; particular; whole;\n",
      "native; small; better; small; given; subject\\xe2\\x80\\x94then;\n",
      "brand\\xe2\\x80\\x99s; big; two-page; Dyslexic-friendly; Wikipediocracy;\n",
      "watchlist.\\nUsing; high; permanent; Persian; substantial;\n",
      "professional; loyal; free; ``; larger; new; ``; real; dozen; longterm;\n",
      "dedicated; problem; fantastic; prominent; senior; mockup; new; Greek;\n",
      "steward\\xe2\\x80\\x94discusses; Polish; questionable; special;\n",
      "fallacious; top-level; free-standing; German; large; million; free;\n",
      "``; ``; real-world; perennial; well-regarded; knowledgeable; banned;\n",
      "borderline; top; long-time; former; former; high-quality; large;\n",
      "subsequent; ``; typical; better; politician\\xe2\\x80\\x99s; particular;\n",
      "Belarusan; corrupt; pseudonymous; new; ``; public; way; fake; new;\n",
      "person\\xe2\\x80\\x99s; factory-installed; third; Tulu\n"
     ]
    }
   ],
   "source": [
    "signpost.findall(r\"<a> (<.*>) <Wikipedia>\")"
   ]
  },
  {
   "cell_type": "code",
   "execution_count": 11,
   "metadata": {
    "collapsed": false
   },
   "outputs": [],
   "source": [
    "with open(\"../data/signpost_corpus.txt\", \"r\") as f:\n",
    "    signpost_sentences = nltk.sent_tokenize(f.read())"
   ]
  },
  {
   "cell_type": "code",
   "execution_count": 12,
   "metadata": {
    "collapsed": false
   },
   "outputs": [
    {
     "data": {
      "text/plain": [
       "['Within a couple of days of beginning their terms, they had already closed a couple of obviously stale cases, and concluded a one-year ban on Lir.\\\\nLast week, the Arbitration Committee closed two additional cases, prohibiting original research and edit warring over the Phil Gingrey article, and banning Alberuni for over a year.',\n",
       " 'The Arbitrators also moved toward issuing rulings in most of the other cases currently on the docket.\\\\nIn their oldest case, however, involving 172 and dating back to last August, things actually moved backwards when former Arbitrator Martin Harper withdrew his votes because he is no longer participating in the process.',\n",
       " 'This left it unclear how long it would take to issue a ruling.\\\\nCases with fresher and well-organized evidence seemed easier to deal with, as reflected in the Alberuni case.',\n",
       " 'Alberuni was brought to Arbitration after a long period of stirring up matters on the Arab-Israeli conflict pages and exacerbating the tension among editors there.',\n",
       " \"In his activity, Alberuni engaged in numerous personal attacks and created a number of sockpuppets for this purpose (sockpuppets that could be identified have already been banned).\\\\nIn Alberuni\\\\'s case, the Arbitrators voted strongly in favor of a one-year ban for personal attacks, plus an additional month for violations of the three-revert rule.\",\n",
       " 'After cleaning up loose ends in the ruling, the Arbitration Committee closed the case officially on Monday and the ban was promptly imposed.\\\\nBy the end of the week, the Arbitrators had also managed to begin making proposals and voting on them for all existing cases, even on their newest case involving Rienzo, which was only just accepted on January 1.',\n",
       " 'One additional new request was accepted and moved into the evidence presentation stage (see below).\\\\nMore POV templates spring up\\\\nQuite possibly the most active Arbitration case last week did not involve deliberation and voting by the Arbitrators, however.',\n",
       " 'That would be the case of CheeseDreams, which prompted additional controversy when she returned to active editing.\\\\nCheeseDreams, who has a history of getting into conflict over articles related to religion, particularly Christianity, had been given a temporary injunction against editing articles related to Christianity.',\n",
       " 'In the course of these conflicts, CheeseDreams created several sockpuppets, generally taking the same username with a slight spelling variation (such as Cheesedreams).',\n",
       " \"No evidence has been raised that the sockpuppets were misused, however.\\\\nWhatever the account involved, until last Wednesday CheeseDreams hadn\\\\'t edited since before Christmas, so the issue seemed to be dormant.\",\n",
       " 'But then she returned and created two new templates, dispute tags indicating that the article was skewed towards \"Bible POV,\" which she then proceeded to add to a number of articles related to the Old Testament or Tanakh.\\\\nIZAK promptly seized upon these edits as violations of the preliminary injunction and listed the templates at Templates for deletion, also requesting that a block be implemented.',\n",
       " 'IZAK also removed the tags wherever they had been posted.\\\\nNobody had given CheeseDreams notice of the injunction, however, until after these edits (of course, her use of sockpuppets compounds this problem by making it hard to know the right place to give such a notice).',\n",
       " \"The notice was finally given by Arbitrator mav Thursday on CheeseDreams\\\\' talk page after the controversy over the templates was raised.\\\\nHowever, Ta bu shi da yu, another participant in this Arbitration case, acted on IZAK\\\\'s complaint and imposed a 24-hour block.\",\n",
       " \"This had to be reversed because the edits preceded the notice of the injunction, and Ta bu shi da yu posted an apology on CheeseDreams\\\\' talk page.\\\\nThe fate of the templates remains to be decided, but they too had a dizzying career.\",\n",
       " 'After first being listed on Templates for deletion by IZAK, they were speedily deleted based on the apparent violation of the injunction.',\n",
       " 'This led to their being nominated on votes for undeletion, where they were promptly undeleted because of the irregularities in the speedy deletion.',\n",
       " 'At last check, the discussion had returned to templates for deletion again.\\\\nSpeed does not equal unanimity\\\\nThe Arbitrators also got an opportunity to demonstrate how quickly they would respond to new requests when dab made a Request for Arbitration involving Antifinnugor.',\n",
       " 'The response was in fact quite swift, as seven Arbitrators responded to the request within 24 hours.\\\\nBut even this was not enough to get a decision on whether or not to accept the case.',\n",
       " 'While three of the necessary four Arbitrators had voted to accept, three others abstained and one voted to reject it, and their comments indicated that they still thought formal mediation could help the situation.',\n",
       " 'Dab\\\\\\'s response was that attempts at informal mediation had been ignored, and the Arbitrators did eventually decide to accept the case.\\\\nDab\\\\\\'s was the only new request accepted last week, so the net effect of this activity is that the Arbitrators have considerably lessened their caseload.\\\\n\\\\nThe fallout from Larry Sanger\\\\\\'s New Year\\\\\\'s Eve Kuro5hin article criticizing Wikipedia for its \"anti-elitism\" trickled into the media last week, which took up the ongoing debate over Wikipedia credibility.',\n",
       " \"Simultaneously, discussions on the Many-to-Many blog over this issue stimulated internal debate there as well as informing the mainstream press.\\\\nMedia topics changing\\\\nAs the news cycle begins to shift away from coverage of the 2004 Indian Ocean earthquake (including widespread discussion of Wikipedia\\\\'s article on the subject), media attention on Wikipedia has also shifted, and two publications carried extensive articles that return to the subject of weighing Wikipedia\\\\'s advantages against credibility concerns.\",\n",
       " 'In the Financial Times, John Gapper wrote an article called \"A new entrant to the knowledge market\", which, as suggested by its title, introduces Wikipedia as a new competitor to Encarta and the Encyclop\\\\xc3\\\\xa6dia Britannica.',\n",
       " 'Meanwhile, The Observer published John Naughton\\\\\\'s column entitled \"Why encyclopaedic row speaks volumes about the old guard\", dealing with the reactions of established reference works like Britannica to Wikipedia\\\\\\'s success.\\\\nAlthough it provides an introduction to Wikipedia, Gapper\\\\\\'s article is not merely a glowing review.',\n",
       " 'Not surprisingly, given his audience, Gapper presents the competition between encyclopedias in economic terms.',\n",
       " 'In his analysis, \"The combination of the internet and Wiki software is a disruptive technology [disruptive to existing competitors, that is]: it allows Wikipedia\\\\\\'s enthusiasts to produce something that is extremely cheap (free, in fact) and good enough to satisfy many people.',\n",
       " '\"\\\\nIn his overview, Gapper presents a condensed version of the debate between Wikipedia\\\\\\'s founders, Jimmy Wales and Sanger, over the weight, or lack thereof, given to academics editing in their field of expertise.',\n",
       " '(Kuro5hin founder Rusty Foster\\\\\\'s observation on this debate: \"Public bickering is the lifeblood of internet-based projects.',\n",
       " '\")\\\\nIn essence, Gapper assumes the argument of Sanger and others, that Wikipedia does in fact need to \"bridge the gap\" with the traditional world of academic expertise and peer review.',\n",
       " 'At the same time, he comments on the trickiness of doing this without losing the productive nature of the Wikipedia community.\\\\nGapper also notes that in spite of the Neutral point of view policy, Wikipedia does have biases in its material resulting from the views of its \"core group\".',\n",
       " 'His example is the McDonald\\\\\\'s article, which he says \"devotes a lot of space to criticisms by environmental and social activists but says little about how the company originally succeeded.\"',\n",
       " \"(While there has been renewed activity on the article since Gapper\\\\'s comment was first published on the web, his point hasn\\\\'t really been addressed yet.\",\n",
       " ')\\\\nStill, Gapper concludes that Wikipedia is \"surprisingly good\", and says that if used carefully, \"it provides a lot of information on a wide variety of topics.\"',\n",
       " \"If the Wikipedia community is able to compromise with academia, he suggests, it could seriously threaten the future of existing published reference works.\\\\nObserver tracks recent media discussion\\\\nNaughton, while he does not mention Sanger or Wales directly (perhaps preferring not to undermine his portrayal of Wikipedia in terms focusing on group dynamics), does discuss the article by former Encyclop\\\\xc3\\\\xa6dia Britannica editor Robert McHenry that was probably the most extensive published critique of Wikipedia before Sanger\\\\'s article.\",\n",
       " \"Naughton also quotes directly from comments by Clay Shirky (see below) that were written specifically in response to the Sanger article.\\\\nIn addition to analyzing the overall debate over the merits of Wikipedia, Naughton can be seen tracing some of Wikipedia\\\\'s recent press coverage elsewhere.\",\n",
       " 'Besides the McHenry article and other previously published quotes from Britannica editors, he mentions the debates over and protection of the George W. Bush article, discussed in several media outlets, and also recaps his own initial article about Wikipedia.',\n",
       " 'He also mentions \"a well-known crackpot\" writing an article about himself, apparently referring to Sollog.\\\\nNaughton consistently evaluates Wikipedia\\\\\\'s product as being of good quality, calling even these disputed articles \"informative\" and \"admirably detached\".',\n",
       " 'Dismissing the critiques of Wikipedia as having a \"whiff of hysteria\", he sums up Wikipedia as \"an exceedingly useful online reference work often consulted by this columnist and countless others.',\n",
       " '\"\\\\nGoing one-on-one at Many-to-Many\\\\nOn the Many-to-Many blog, NYU professor Clay Shirky gave an initial response last Monday to the Sanger article after the news reached Slashdot.',\n",
       " 'While conceding that Sanger was partially right in his criticisms, Shirky said Wikipedia was being given \"too little credit\" for its efforts in dealing with the problems Sanger complained about.',\n",
       " 'He also argued that while Wikipedia resembles a traditional encyclopedia, its critics fail to recognize that ultimately it has a different nature, much like an automobile differs from a horseless carriage.\\\\nThe next day his colleague on that blog, danah boyd, took the other side of the debate.',\n",
       " 'Echoing McHenry\\\\\\'s observations about Alexander Hamilton being \"edited into mediocrity\", boyd suggested the quality of collaborative work was overrated: \"Wikipedia appears to be a legitimate authority on a vast array of topics for which only one individual has contributed material.',\n",
       " '\"\\\\nThe debate continued as Shirky and boyd exchanged further responses.',\n",
       " 'Later on, Shirky posted a Wikipedia screenshot[1] containing the output of a script he had written, which showed below the title of the article how many times it had been edited, by how many users, and the dates of the first and most recent edits.',\n",
       " 'He suggested that this would give at least some idea of how trustworthy any given article is, and hoped somebody would implement it as a setting on Wikipedia.',\n",
       " 'Whether that happens, we shall have to wait and see.\\\\n\\\\nSeptember 11 article shot down over stylistic issues\\\\nSeptember 11, 2001 attacks, an article with an important position in the history of Wikipedia itself, was nominated for featured article status last week.',\n",
       " 'However, the nomination appeared doomed to fail, as discussion of the article\\\\\\'s quality degenerated into an argument over whether the title required another comma.\\\\nThe \"missing\" comma after \"2001\"\\\\xe2\\\\x80\\\\x94already debated extensively on the talk page, with an entire talk page archive dedicated entirely to the issue\\\\xe2\\\\x80\\\\x94continues to plague the September 11 article even after a truce on more emotional issues, like the use of the word \"terrorist\".',\n",
       " 'Key figures in this debate include Maurreen and jguk.\\\\nMaurreen has consistently supported adding the comma, citing a variety of professional style guides for the rule that the year should be followed by a comma or other punctuation mark when a date is written out as day, month, and year.',\n",
       " 'Jguk and others argued that this custom does not apply in this instance, based on widespread usage with the comma missing, particularly in international English usage.',\n",
       " 'They also pointed out that the guidelines cited by Maurreen do not address usage when a date is used as an adjective, as it is in this particular situation.\\\\nThe discussion and two polls on the talk page in October failed to reach consensus.',\n",
       " 'Others suggested avoiding the issue entirely by moving the article to \"Attacks of September 11, 2001\" or a similar title.\\\\nHow far apart do the waves need to be?\\\\nMeanwhile, another article that has gotten Wikipedia a lot of press based on similar circumstances, 2004 Indian Ocean earthquake, had its featured article nomination overwhelmingly rejected.',\n",
       " \"It seems the article (which was still getting 68 edits in a day as of last Sunday) is not stable enough for everyone\\\\'s tastes.\",\n",
       " 'Some people also didn\\\\\\'t want it to end up as the featured article on the Main Page while it was still being showcased as part of the news section.\\\\nHowever, brilliant prose was being recognized in areas besides \"major disasters of special significance to Wikipedia\".',\n",
       " \"Articles that did receive acclamation as featured articles this past week included Witold Pilecki, Liberal Party (Utah), Chemical warfare, Ryanair, and Craters of the Moon National Monument and Preserve.\\\\nIn addition to the featured articles, here\\\\'s last week\\\\'s newly-made featured pictures:\\\\nKiritimati Island\\\\nAustralian Garden Orb Weaver Spider\\\\nAlaska Wild Berries\\\\nBuddhabrot - deeply iterated\\\\n\\\\nThe name, The Wikipedia Signpost, was chosen to be like the name of a newspaper, since a newspaper is what I would call this project.\",\n",
       " 'Though it will almost certainly never appear on newsprint paper, it will nevertheless take on this role for our community.',\n",
       " 'It should have some resemblance to the other newspapers you may happen to read in the course of your life (which I venture to guess many of you read online anyway, rather than the paper copy).\\\\nWith no slight intended to other projects or languages, The Signpost will focus strongly on the English Wikipedia.',\n",
       " 'The news coming from other language Wikipedias could undoubtedly fill its own newspaper.',\n",
       " 'Correspondingly, rather than trying to translate The Signpost for the benefit of other segments of the community, I hope that as other projects develop a need for this kind of resource, they will adapt and develop this idea for their own uses.\\\\nThe name also especially suits Wikipedia, because it alludes to a practice here and on other wikis, in that we communicate primarily through \"signed posts,\" as on talk pages.',\n",
       " 'While the wiki system may be used to develop and publish articles, because this is original reporting the reporters will use a byline to \"sign\" their posts.',\n",
       " 'Since this is not in the article namespace, guidelines such as \"no ownership of articles\", and particularly \"no original research\", will not necessarily apply.',\n",
       " 'However, The Signpost will strive to maintain its objectivity as would be appropriate for an independent media organization elsewhere.\\\\nThe need for a community newspaper is tremendous.',\n",
       " \"Already long ago the speed of recent changes on Wikipedia surpassed anyone\\\\'s ability to follow edits thoroughly.\",\n",
       " 'By now, we are well past the stage where, even when considered in broader terms, anyone can singlehandedly stay on top of events here.',\n",
       " 'To attempt this, your watchlist would be unmanageable, your inbox inundated with mailing list posts, your browser overwhelmed with open tabs, and your time spent flitting from reading about Wikipedia in the blogosphere to hanging out on IRC\\\\xe2\\\\x80\\\\x94even when asleep!',\n",
       " 'I hope The Signpost can spare people the effort of trying to be everywhere and read every discussion.\\\\nThe subjects covered here should be whatever community subjects interest the readers.',\n",
       " \"Some people will be more interested in things happening with featured articles, others will want to follow Wikipedia\\\\'s statistical trends.\",\n",
       " 'Not everyone will share all interests, but I hope to have something for everyone, and to hear from readers what else they want to know.',\n",
       " 'And to those who might call this navel-gazing, I merely ask\\\\xe2\\\\x80\\\\x94so why are you reading then?\\\\nFinally, given the size of Wikipedia that makes it necessary, even a small community newspaper is a huge task.',\n",
       " \"I don\\\\'t plan to do it alone, and anyone interested in writing for The Signpost should get in touch with me so we can organize the work.\",\n",
       " \"I especially welcome anyone who\\\\'s been dying to try their hand at original reporting, but isn\\\\'t really sure whether they have material worth publishing on Wikinews (and no, this project is not meant to make navel-gazing publishable at Wikinews).\",\n",
       " \"And really, what more logical place is there to develop our skills with original reporting than here, where news is being made and people are interested in this news?\\\\nWith that, I wish you all happy reading!\\\\n--Michael Snow\\\\n\\\\nThe Wikimedia Foundation\\\\'s next fundraising drive, originally planned for this month, has apparently been postponed until sometime in February.\\\\nThe Wikimedia Foundation has been conducting these fundraisers roughly on a quarterly basis recently, primarily by posting a notice on all Wikimedia project pages inviting people to donate to support the Foundation\\\\'s efforts.\",\n",
       " \"The most recent fundraising drive, which coincided with the milestone of reaching 1 million Wikipedia articles, raised over US $50,000 to support site operations.\\\\nThe planned fundraiser was initially scheduled to coincide with Wikipedia\\\\'s anniversary this month, as announced last Tuesday by Volunteer Representative Trustee Angela Beesley.\",\n",
       " 'She suggested that in preparation, the sitewide notice for the fundraiser could benefit from improvements, and mentioned the possibility of sending out a press release for the fundraiser and anniversary.\\\\nBeesley added that developer Tim Starling is working on a database that will allow the Foundation to start accepting memberships.',\n",
       " 'Meanwhile, a quarterly budget for the use of these funds is also in the works.\\\\nResponses to the announcement indicated that the timing of the fundraiser was a bad idea.',\n",
       " \"In addition to the fact that people may be strapped financially after the holiday season, Dori pointed out that this would be very close to the 2004 Indian Ocean Earthquake, which is commanding much of the world\\\\'s attention in terms of charitable giving.\",\n",
       " 'Wikipedia itself has been contributing to the situation by having a prominent link on the Main Page to information about donations to the relief effort.\\\\nWith these considerations in mind, Member Representative Trustee Anthere indicated that the Foundation could afford to wait a little bit.',\n",
       " 'With Chief Financial Officer Daniel Mayer in agreement, it appears that the fundraiser will be held in early February instead.\\\\n\\\\nLaw professor Glenn Reynolds, who writes the Instapundit blog, triggered an edit war last week over the article about his blog.',\n",
       " 'After he noted the article\\\\\\'s inaccuracies in his blog, a surge of traffic and vandalism led to the article being protected from editing.\\\\nWriting in his blog last Thursday, Reynolds commented on two matters in the article, one of them a picture showing him wearing a t-shirt that reads \"I had an abortion\", and the other a reference to a story about him putting puppies into a blender to create an energy drink.',\n",
       " 'He also noted that contrary to the information given, his blog had never been hosted by servers at the University of Tennessee (where he teaches).',\n",
       " 'Reynolds\\\\\\' assessment was that this \"does little to inspire confidence\" in Wikipedia\\\\\\'s trustworthiness.\\\\nPuppies, lies, and photoshop\\\\nThe picture, which is apparently a photoshopped fake, had been in the article since November when it was added by Urbansombrero (a user whose only contributions were to upload the picture and add it to the Instapundit article).',\n",
       " 'Until Reynolds commented on it, nobody had bothered to do anything about the picture, although the fakery was noted on the talk page.\\\\nThe \"puppy-blender\" story has a longer history, as it was originally promoted in April 2003 by Frank J. on the IMAO blog as a \"filthy lie\" for people to tell about Reynolds.',\n",
       " \"Since then, the joke/lie has had a fair amount of circulation in the blogosphere, and its over-the-top nature makes it fairly easy to detect as falsehood, even if the teller doesn\\\\'t actually point this out.\\\\nAs the Instapundit article is regularly visited by vandals, this story naturally makes popular fodder for their material.\",\n",
       " 'The story has often been added as if it were fact, and on other occasions simply mentioned as being a story told about Reynolds.',\n",
       " 'Either way it has regularly been removed again by people monitoring the article.\\\\nTraffic moves in both directions\\\\nBy blogging about these issues, Reynolds managed to drive some additional traffic to the Instapundit article, some of which continued the vandalism.',\n",
       " 'Finally, administrator Violetriga protected the article for about 24 hours.',\n",
       " \"Since the unprotection of the page, things have calmed down, but a picture to illustrate the article is still lacking.\\\\nApparently Reynolds also got some feedback from people who didn\\\\'t take kindly to his comments, much like some other media figures have noted receiving flames when they publish material that is critical of Wikipedia.\",\n",
       " 'In any case, Reynolds later updated his blog to add, \"I didn\\\\\\'t mean for the original post to be a big slam on Wikipedia, just a comment on a not-very-reliable post.',\n",
       " '\"\\\\n\\\\nAfter more than two years of sporadic discussion, the www.wikipedia.org domain changed Friday from a redirect to the English Wikipedia into a portal showing all Wikipedia languages having over 100 articles.\\\\nWhen it was created, the English Wikipedia was located at www.wikipedia.org (originally www.wikipedia.com).',\n",
       " 'Other languages were assigned domains based on ISO 639 language codes.',\n",
       " 'The English Wikipedia was eventually moved in October 2002 to the appropriate domain for its language code, en.wikipedia.org, while the previous domains were set to redirect people to the correct location.\\\\nThe move to create a portal was endorsed by Jimmy Wales and acclaimed by Wikipedians from other languages as long overdue.',\n",
       " 'However, the change surprised a number of people and upset some users of the English Wikipedia who disliked the new arrangement.\\\\nReopening of discussion leads to action\\\\nPrompted by a question on the Wikitech mailing list, Member Representative Trustee Anthere took advantage of the opportunity to revisit the issue.']"
      ]
     },
     "execution_count": 12,
     "metadata": {},
     "output_type": "execute_result"
    }
   ],
   "source": [
    "signpost_sentences[10:100]"
   ]
  },
  {
   "cell_type": "markdown",
   "metadata": {},
   "source": [
    "This uses part of speech tagging to find words which appear in similar places ($A W B$ versus $A W' B$)."
   ]
  },
  {
   "cell_type": "code",
   "execution_count": 13,
   "metadata": {
    "collapsed": false
   },
   "outputs": [
    {
     "name": "stdout",
     "output_type": "stream",
     "text": [
      "the it and a this that articles new them in which wikimedia to all of\n",
      "article other what is one\n"
     ]
    }
   ],
   "source": [
    "signpost.similar(\"Wikipedia\")"
   ]
  },
  {
   "cell_type": "code",
   "execution_count": 14,
   "metadata": {
    "collapsed": false
   },
   "outputs": [
    {
     "name": "stdout",
     "output_type": "stream",
     "text": [
      "article editor the and editors wikipedia articles admin image editing\n",
      "page issue in user community account is example project that\n"
     ]
    }
   ],
   "source": [
    "signpost.similar(\"administrator\")"
   ]
  },
  {
   "cell_type": "markdown",
   "metadata": {},
   "source": [
    "You can part-of-speech tokenize inputted text:"
   ]
  },
  {
   "cell_type": "code",
   "execution_count": 15,
   "metadata": {
    "collapsed": false
   },
   "outputs": [
    {
     "name": "stdout",
     "output_type": "stream",
     "text": [
      "[nltk_data] Downloading package averaged_perceptron_tagger to\n",
      "[nltk_data]     C:\\Users\\Alex\\AppData\\Roaming\\nltk_data...\n",
      "[nltk_data]   Package averaged_perceptron_tagger is already up-to-\n",
      "[nltk_data]       date!\n"
     ]
    },
    {
     "data": {
      "text/plain": [
       "True"
      ]
     },
     "execution_count": 15,
     "metadata": {},
     "output_type": "execute_result"
    }
   ],
   "source": [
    "nltk.download('averaged_perceptron_tagger')"
   ]
  },
  {
   "cell_type": "code",
   "execution_count": 16,
   "metadata": {
    "collapsed": false
   },
   "outputs": [
    {
     "data": {
      "text/plain": [
       "[[(\"b'The\", 'DT'),\n",
       "  ('Association', 'NNP'),\n",
       "  ('of', 'IN'),\n",
       "  ('Members\\\\', 'NNP'),\n",
       "  (\"'\", 'POS'),\n",
       "  ('Advocates', 'NNS'),\n",
       "  (',', ','),\n",
       "  ('an', 'DT'),\n",
       "  ('independent', 'JJ'),\n",
       "  ('association', 'NN'),\n",
       "  ('involved', 'VBN'),\n",
       "  ('in', 'IN'),\n",
       "  ('the', 'DT'),\n",
       "  ('dispute', 'NN'),\n",
       "  ('resolution', 'NN'),\n",
       "  ('process', 'NN'),\n",
       "  (',', ','),\n",
       "  ('has', 'VBZ'),\n",
       "  ('started', 'VBN'),\n",
       "  ('discussions', 'NNS'),\n",
       "  ('on', 'IN'),\n",
       "  ('having', 'VBG'),\n",
       "  ('a', 'DT'),\n",
       "  ('new', 'JJ'),\n",
       "  ('election', 'NN'),\n",
       "  ('for', 'IN'),\n",
       "  ('the', 'DT'),\n",
       "  ('position', 'NN'),\n",
       "  ('of', 'IN'),\n",
       "  ('AMA', 'NNP'),\n",
       "  ('Coordinator.\\\\nSince', 'NNP'),\n",
       "  ('the', 'DT'),\n",
       "  ('initial', 'JJ'),\n",
       "  ('election', 'NN'),\n",
       "  ('of', 'IN'),\n",
       "  ('Alex756', 'NNP'),\n",
       "  ('to', 'TO'),\n",
       "  ('this', 'DT'),\n",
       "  ('position', 'NN'),\n",
       "  ('last', 'JJ'),\n",
       "  ('April', 'NNP'),\n",
       "  ('was', 'VBD'),\n",
       "  ('for', 'IN'),\n",
       "  ('a', 'DT'),\n",
       "  ('term', 'NN'),\n",
       "  ('of', 'IN'),\n",
       "  ('six', 'CD'),\n",
       "  ('months', 'NNS'),\n",
       "  (',', ','),\n",
       "  ('it', 'PRP'),\n",
       "  ('appears', 'VBZ'),\n",
       "  ('the', 'DT'),\n",
       "  ('new', 'JJ'),\n",
       "  ('election', 'NN'),\n",
       "  ('is', 'VBZ'),\n",
       "  ('already', 'RB'),\n",
       "  ('several', 'JJ'),\n",
       "  ('months', 'NNS'),\n",
       "  ('overdue', 'JJ'),\n",
       "  ('.', '.')],\n",
       " [('A', 'DT'),\n",
       "  ('poll', 'NN'),\n",
       "  ('on', 'IN'),\n",
       "  ('the', 'DT'),\n",
       "  ('question', 'NN'),\n",
       "  ('of', 'IN'),\n",
       "  ('having', 'VBG'),\n",
       "  ('new', 'JJ'),\n",
       "  ('elections', 'NNS'),\n",
       "  ('was', 'VBD'),\n",
       "  ('running', 'VBG'),\n",
       "  ('strongly', 'RB'),\n",
       "  ('in', 'IN'),\n",
       "  ('favor', 'NN'),\n",
       "  (',', ','),\n",
       "  ('but', 'CC'),\n",
       "  ('general', 'JJ'),\n",
       "  ('discussion', 'NN'),\n",
       "  ('among', 'IN'),\n",
       "  ('the', 'DT'),\n",
       "  ('members', 'NNS'),\n",
       "  ('was', 'VBD'),\n",
       "  ('a', 'DT'),\n",
       "  ('little', 'RB'),\n",
       "  ('more', 'RBR'),\n",
       "  ('uncertain', 'JJ'),\n",
       "  ('how', 'WRB'),\n",
       "  ('to', 'TO'),\n",
       "  ('proceed.\\\\nVoicing', 'VBG'),\n",
       "  ('an', 'DT'),\n",
       "  ('outside', 'JJ'),\n",
       "  ('opinion', 'NN'),\n",
       "  ('on', 'IN'),\n",
       "  ('the', 'DT'),\n",
       "  ('AMA', 'NNP'),\n",
       "  (',', ','),\n",
       "  ('Ambi', 'NNP'),\n",
       "  ('said', 'VBD'),\n",
       "  ('she', 'PRP'),\n",
       "  ('thought', 'VBD'),\n",
       "  ('it', 'PRP'),\n",
       "  ('was', 'VBD'),\n",
       "  ('``', '``'),\n",
       "  ('completely', 'RB'),\n",
       "  ('dead', 'JJ'),\n",
       "  (\"''\", \"''\"),\n",
       "  ('and', 'CC'),\n",
       "  (\"hadn\\\\'t\", 'VB'),\n",
       "  ('seen', 'VBN'),\n",
       "  ('it', 'PRP'),\n",
       "  ('in', 'IN'),\n",
       "  ('action', 'NN'),\n",
       "  ('anywhere', 'RB'),\n",
       "  ('.', '.')],\n",
       " [('Some', 'DT'),\n",
       "  ('advocates', 'NNS'),\n",
       "  ('responded', 'VBD'),\n",
       "  ('that', 'IN'),\n",
       "  ('their', 'PRP$'),\n",
       "  ('work', 'NN'),\n",
       "  (\"hadn\\\\'t\", 'RB'),\n",
       "  ('been', 'VBN'),\n",
       "  ('done', 'VBN'),\n",
       "  ('in', 'IN'),\n",
       "  ('the', 'DT'),\n",
       "  ('later', 'JJ'),\n",
       "  ('stages', 'NNS'),\n",
       "  ('of', 'IN'),\n",
       "  ('the', 'DT'),\n",
       "  ('dispute', 'NN'),\n",
       "  ('resolution', 'NN'),\n",
       "  ('system', 'NN'),\n",
       "  (',', ','),\n",
       "  ('noting', 'VBG'),\n",
       "  ('that', 'IN'),\n",
       "  ('they', 'PRP'),\n",
       "  ('seemed', 'VBD'),\n",
       "  ('mostly', 'RB'),\n",
       "  ('to', 'TO'),\n",
       "  ('be', 'VB'),\n",
       "  ('helping', 'VBG'),\n",
       "  ('newcomers', 'NNS'),\n",
       "  ('who', 'WP'),\n",
       "  (\"weren\\\\'t\", 'VBP'),\n",
       "  ('familiar', 'JJ'),\n",
       "  ('with', 'IN'),\n",
       "  ('Wikipedia', 'NNP'),\n",
       "  ('procedures', 'NNS'),\n",
       "  ('.', '.')],\n",
       " [('Since', 'IN'),\n",
       "  ('this', 'DT'),\n",
       "  ('was', 'VBD'),\n",
       "  ('rather', 'RB'),\n",
       "  ('different', 'JJ'),\n",
       "  ('from', 'IN'),\n",
       "  ('the', 'DT'),\n",
       "  ('role', 'NN'),\n",
       "  ('the', 'DT'),\n",
       "  ('AMA', 'NNP'),\n",
       "  ('originally', 'RB'),\n",
       "  ('conceived', 'VBD'),\n",
       "  ('for', 'IN'),\n",
       "  ('itself', 'PRP'),\n",
       "  ('of', 'IN'),\n",
       "  ('working', 'VBG'),\n",
       "  ('primarily', 'RB'),\n",
       "  ('in', 'IN'),\n",
       "  ('mediation', 'NN'),\n",
       "  ('and', 'CC'),\n",
       "  ('arbitration', 'NN'),\n",
       "  (',', ','),\n",
       "  ('it', 'PRP'),\n",
       "  ('opened', 'VBD'),\n",
       "  ('the', 'DT'),\n",
       "  ('question', 'NN'),\n",
       "  ('of', 'IN'),\n",
       "  ('rethinking', 'VBG'),\n",
       "  ('the', 'DT'),\n",
       "  ('AMA\\\\', 'NNP'),\n",
       "  (\"'s\", 'POS'),\n",
       "  ('basic', 'JJ'),\n",
       "  ('focus', 'NN'),\n",
       "  ('entirely.\\\\nTo', 'JJ'),\n",
       "  ('figure', 'NN'),\n",
       "  ('these', 'DT'),\n",
       "  ('issues', 'NNS'),\n",
       "  ('out', 'RP'),\n",
       "  (',', ','),\n",
       "  ('Alex756', 'NNP'),\n",
       "  ('proposed', 'VBD'),\n",
       "  ('that', 'IN'),\n",
       "  ('the', 'DT'),\n",
       "  ('AMA', 'NNP'),\n",
       "  ('have', 'VBP'),\n",
       "  ('a', 'DT'),\n",
       "  ('meeting', 'NN'),\n",
       "  ('for', 'IN'),\n",
       "  ('all', 'DT'),\n",
       "  ('advocates', 'NNS'),\n",
       "  ('.', '.')],\n",
       " [('The', 'DT'),\n",
       "  ('meeting', 'NN'),\n",
       "  (',', ','),\n",
       "  ('tentatively', 'RB'),\n",
       "  ('to', 'TO'),\n",
       "  ('be', 'VB'),\n",
       "  ('held', 'VBN'),\n",
       "  ('via', 'IN'),\n",
       "  ('IRC', 'NNP'),\n",
       "  (',', ','),\n",
       "  ('would', 'MD'),\n",
       "  ('address', 'VB'),\n",
       "  ('matters', 'NNS'),\n",
       "  ('such', 'JJ'),\n",
       "  ('as', 'IN'),\n",
       "  ('choosing', 'VBG'),\n",
       "  ('officers', 'NNS'),\n",
       "  (',', ','),\n",
       "  ('drafting', 'VBG'),\n",
       "  ('a', 'DT'),\n",
       "  ('charter', 'NN'),\n",
       "  (',', ','),\n",
       "  ('and', 'CC'),\n",
       "  ('how', 'WRB'),\n",
       "  ('to', 'TO'),\n",
       "  ('get', 'VB'),\n",
       "  ('the', 'DT'),\n",
       "  ('organization', 'NN'),\n",
       "  ('more', 'RBR'),\n",
       "  ('active', 'JJ'),\n",
       "  ('and', 'CC'),\n",
       "  ('effective', 'JJ'),\n",
       "  ('in', 'IN'),\n",
       "  ('Wikipedia.\\\\nGiven', 'NNP'),\n",
       "  ('the', 'DT'),\n",
       "  ('uncertain', 'JJ'),\n",
       "  ('state', 'NN'),\n",
       "  ('of', 'IN'),\n",
       "  ('affairs', 'NNS'),\n",
       "  (',', ','),\n",
       "  ('several', 'JJ'),\n",
       "  ('advocates', 'NNS'),\n",
       "  ('expressed', 'VBD'),\n",
       "  ('interest', 'NN'),\n",
       "  ('in', 'IN'),\n",
       "  ('improving', 'VBG'),\n",
       "  ('publicity', 'NN'),\n",
       "  ('for', 'IN'),\n",
       "  ('the', 'DT'),\n",
       "  ('AMA', 'NNP'),\n",
       "  ('as', 'IN'),\n",
       "  ('an', 'DT'),\n",
       "  ('organization', 'NN'),\n",
       "  ('.', '.')],\n",
       " [('Alex756', 'NNP'),\n",
       "  ('suggested', 'VBD'),\n",
       "  ('conducting', 'VBG'),\n",
       "  ('a', 'DT'),\n",
       "  ('study', 'NN'),\n",
       "  ('to', 'TO'),\n",
       "  ('analyze', 'VB'),\n",
       "  ('the', 'DT'),\n",
       "  ('operations', 'NNS'),\n",
       "  ('of', 'IN'),\n",
       "  ('the', 'DT'),\n",
       "  ('Mediation', 'NNP'),\n",
       "  ('and', 'CC'),\n",
       "  ('Arbitration', 'NNP'),\n",
       "  ('Committees', 'NNP'),\n",
       "  ('and', 'CC'),\n",
       "  ('issuing', 'VBG'),\n",
       "  ('a', 'DT'),\n",
       "  ('report', 'NN'),\n",
       "  ('.', '.')],\n",
       " [('Advocate', 'NNP'),\n",
       "  ('KeithTyler', 'NNP'),\n",
       "  ('responded', 'VBD'),\n",
       "  ('that', 'IN'),\n",
       "  ('he', 'PRP'),\n",
       "  ('thought', 'VBD'),\n",
       "  ('this', 'DT'),\n",
       "  ('might', 'MD'),\n",
       "  ('exceed', 'VB'),\n",
       "  ('the', 'DT'),\n",
       "  ('role', 'NN'),\n",
       "  ('and', 'CC'),\n",
       "  ('function', 'NN'),\n",
       "  ('of', 'IN'),\n",
       "  ('the', 'DT'),\n",
       "  ('association.\\\\nIt', 'NN'),\n",
       "  ('appears', 'VBZ'),\n",
       "  ('that', 'IN'),\n",
       "  ('further', 'JJ'),\n",
       "  ('discussion', 'NN'),\n",
       "  ('of', 'IN'),\n",
       "  ('these', 'DT'),\n",
       "  ('issues', 'NNS'),\n",
       "  ('will', 'MD'),\n",
       "  ('have', 'VB'),\n",
       "  ('to', 'TO'),\n",
       "  ('wait', 'VB'),\n",
       "  ('for', 'IN'),\n",
       "  ('the', 'DT'),\n",
       "  ('AMA\\\\', 'NNP'),\n",
       "  (\"'s\", 'POS'),\n",
       "  ('meeting', 'NN'),\n",
       "  (',', ','),\n",
       "  ('but', 'CC'),\n",
       "  ('it', 'PRP'),\n",
       "  ('is', 'VBZ'),\n",
       "  ('not', 'RB'),\n",
       "  ('yet', 'RB'),\n",
       "  ('certain', 'JJ'),\n",
       "  ('when', 'WRB'),\n",
       "  ('that', 'DT'),\n",
       "  ('will', 'MD'),\n",
       "  ('be', 'VB'),\n",
       "  ('held.\\\\n\\\\nThis', 'VBN'),\n",
       "  ('will', 'MD'),\n",
       "  ('be', 'VB'),\n",
       "  ('a', 'DT'),\n",
       "  ('regular', 'JJ'),\n",
       "  ('column', 'NN'),\n",
       "  ('dealing', 'VBG'),\n",
       "  ('with', 'IN'),\n",
       "  ('cases', 'NNS'),\n",
       "  ('before', 'IN'),\n",
       "  ('the', 'DT'),\n",
       "  ('Arbitration', 'NNP'),\n",
       "  ('Committee', 'NNP'),\n",
       "  ('and', 'CC'),\n",
       "  ('other', 'JJ'),\n",
       "  ('matters', 'NNS'),\n",
       "  ('going', 'VBG'),\n",
       "  ('through', 'IN'),\n",
       "  ('the', 'DT'),\n",
       "  ('dispute', 'NN'),\n",
       "  ('resolution', 'NN'),\n",
       "  ('system', 'NN'),\n",
       "  ('.', '.')],\n",
       " [('Hopefully', 'RB'),\n",
       "  (',', ','),\n",
       "  ('it', 'PRP'),\n",
       "  ('will', 'MD'),\n",
       "  ('not', 'RB'),\n",
       "  ('get', 'VB'),\n",
       "  ('too', 'RB'),\n",
       "  ('long', 'RB'),\n",
       "  ('to', 'TO'),\n",
       "  ('write', 'VB'),\n",
       "  ('.', '.')],\n",
       " [('(', '('),\n",
       "  ('Yes', 'UH'),\n",
       "  (',', ','),\n",
       "  ('the', 'DT'),\n",
       "  ('acronym', 'NN'),\n",
       "  ('is', 'VBZ'),\n",
       "  ('intentional', 'JJ'),\n",
       "  (',', ','),\n",
       "  ('with', 'IN'),\n",
       "  ('tongue', 'NN'),\n",
       "  ('planted', 'VBN'),\n",
       "  ('firmly', 'RB'),\n",
       "  ('in', 'IN'),\n",
       "  ('cheek', 'NN'),\n",
       "  ('.', '.')],\n",
       " [(')', ')'),\n",
       "  ('\\\\nNew', 'NN'),\n",
       "  ('Arbitrators', 'NNS'),\n",
       "  ('finish', 'VBD'),\n",
       "  ('off', 'RP'),\n",
       "  ('more', 'RBR'),\n",
       "  ('cases\\\\nThe', 'NNS'),\n",
       "  ('recently', 'RB'),\n",
       "  ('elected', 'VBD'),\n",
       "  ('crew', 'NN'),\n",
       "  ('of', 'IN'),\n",
       "  ('new', 'JJ'),\n",
       "  ('Arbitrators', 'NNS'),\n",
       "  ('continued', 'VBD'),\n",
       "  ('to', 'TO'),\n",
       "  ('make', 'VB'),\n",
       "  ('progress', 'NN'),\n",
       "  ('toward', 'IN'),\n",
       "  ('reaching', 'VBG'),\n",
       "  ('decisions', 'NNS'),\n",
       "  ('on', 'IN'),\n",
       "  ('their', 'PRP$'),\n",
       "  ('existing', 'JJ'),\n",
       "  ('cases', 'NNS'),\n",
       "  ('.', '.')]]"
      ]
     },
     "execution_count": 16,
     "metadata": {},
     "output_type": "execute_result"
    }
   ],
   "source": [
    "[nltk.pos_tag(nltk.word_tokenize(s)) for s in signpost_sentences[:10]]"
   ]
  },
  {
   "cell_type": "code",
   "execution_count": 17,
   "metadata": {
    "collapsed": true
   },
   "outputs": [],
   "source": [
    "import numpy as np"
   ]
  },
  {
   "cell_type": "code",
   "execution_count": 18,
   "metadata": {
    "collapsed": false
   },
   "outputs": [
    {
     "name": "stdout",
     "output_type": "stream",
     "text": [
      "Wall time: 57 ms\n"
     ]
    }
   ],
   "source": [
    "%time tag_fd = nltk.FreqDist(tag for (word, tag) in np.array([nltk.pos_tag(nltk.word_tokenize(s)) for s in signpost_sentences[:10]]).flatten()[0])"
   ]
  },
  {
   "cell_type": "code",
   "execution_count": 19,
   "metadata": {
    "collapsed": false
   },
   "outputs": [
    {
     "name": "stdout",
     "output_type": "stream",
     "text": [
      "Wall time: 566 ms\n"
     ]
    }
   ],
   "source": [
    "%time tag_fd = nltk.FreqDist(tag for (word, tag) in np.array([nltk.pos_tag(nltk.word_tokenize(s)) for s in signpost_sentences[:100]]).flatten()[0])"
   ]
  },
  {
   "cell_type": "code",
   "execution_count": 20,
   "metadata": {
    "collapsed": false
   },
   "outputs": [
    {
     "data": {
      "text/plain": [
       "116519"
      ]
     },
     "execution_count": 20,
     "metadata": {},
     "output_type": "execute_result"
    }
   ],
   "source": [
    "len(signpost_sentences)"
   ]
  },
  {
   "cell_type": "code",
   "execution_count": 21,
   "metadata": {
    "collapsed": false
   },
   "outputs": [
    {
     "data": {
      "text/plain": [
       "7.768666666666666"
      ]
     },
     "execution_count": 21,
     "metadata": {},
     "output_type": "execute_result"
    }
   ],
   "source": [
    "(172*2.71)/60"
   ]
  },
  {
   "cell_type": "code",
   "execution_count": 22,
   "metadata": {
    "collapsed": false
   },
   "outputs": [
    {
     "data": {
      "text/plain": [
       "[('NN', 10),\n",
       " ('DT', 9),\n",
       " ('IN', 8),\n",
       " ('JJ', 7),\n",
       " ('NNP', 6),\n",
       " ('NNS', 4),\n",
       " ('VBZ', 3),\n",
       " (',', 3),\n",
       " ('VBN', 2),\n",
       " ('POS', 1),\n",
       " ('CD', 1),\n",
       " ('VBD', 1),\n",
       " ('TO', 1),\n",
       " ('RB', 1),\n",
       " ('.', 1),\n",
       " ('PRP', 1),\n",
       " ('VBG', 1)]"
      ]
     },
     "execution_count": 22,
     "metadata": {},
     "output_type": "execute_result"
    }
   ],
   "source": [
    "tag_fd.most_common()"
   ]
  },
  {
   "cell_type": "code",
   "execution_count": 23,
   "metadata": {
    "collapsed": false
   },
   "outputs": [
    {
     "data": {
      "text/plain": [
       "0.16666666666666666"
      ]
     },
     "execution_count": 23,
     "metadata": {},
     "output_type": "execute_result"
    }
   ],
   "source": [
    "tag_fd.freq('NN')"
   ]
  },
  {
   "cell_type": "code",
   "execution_count": 24,
   "metadata": {
    "collapsed": false
   },
   "outputs": [
    {
     "data": {
      "text/plain": [
       "10"
      ]
     },
     "execution_count": 24,
     "metadata": {},
     "output_type": "execute_result"
    }
   ],
   "source": [
    "tag_fd.get('NN')"
   ]
  },
  {
   "cell_type": "code",
   "execution_count": 25,
   "metadata": {
    "collapsed": false
   },
   "outputs": [
    {
     "data": {
      "text/plain": [
       "'NN'"
      ]
     },
     "execution_count": 25,
     "metadata": {},
     "output_type": "execute_result"
    }
   ],
   "source": [
    "tag_fd.max()"
   ]
  },
  {
   "cell_type": "code",
   "execution_count": 26,
   "metadata": {
    "collapsed": false
   },
   "outputs": [
    {
     "data": {
      "image/png": "[encoded data removed]",
      "text/plain": [
       "<matplotlib.figure.Figure at 0x854a1b38>"
      ]
     },
     "metadata": {},
     "output_type": "display_data"
    }
   ],
   "source": [
    "import matplotlib.pyplot as plt\n",
    "%matplotlib inline\n",
    "tag_fd.plot()"
   ]
  },
  {
   "cell_type": "code",
   "execution_count": 27,
   "metadata": {
    "collapsed": false
   },
   "outputs": [],
   "source": [
    "# sp_word_freq_dist = np.concatenate([nltk.pos_tag(nltk.word_tokenize(s)) for s in signpost_sentences]).flatten()"
   ]
  },
  {
   "cell_type": "markdown",
   "metadata": {},
   "source": [
    "The above line throws:\n",
    "\n",
    "```C\n",
    "\n",
    "---------------------------------------------------------------------------\n",
    "MemoryError                               Traceback (most recent call last)\n",
    "<ipython-input-7-7aa4dabc14b2> in <module>()\n",
    "----> 1 sp_word_freq_dist = np.concatenate([nltk.pos_tag(nltk.word_tokenize(s)) for s in signpost_sentences]).flatten()\n",
    "\n",
    "MemoryError: \n",
    "```\n",
    "\n",
    "...huh.\n",
    "\n",
    "Let's mock it with a small subselection."
   ]
  },
  {
   "cell_type": "code",
   "execution_count": 33,
   "metadata": {
    "collapsed": true
   },
   "outputs": [],
   "source": [
    "sp_word_freq_dist_sample = nltk.FreqDist(np.concatenate([nltk.pos_tag(nltk.word_tokenize(s)) for s in signpost_sentences[:20000]]).flatten())"
   ]
  },
  {
   "cell_type": "code",
   "execution_count": 41,
   "metadata": {
    "collapsed": false
   },
   "outputs": [
    {
     "data": {
      "text/plain": [
       "['NN',\n",
       " ',',\n",
       " 'IN',\n",
       " 'NNP',\n",
       " 'DT',\n",
       " 'JJ',\n",
       " 'NNS',\n",
       " '.',\n",
       " 'the',\n",
       " 'VBN',\n",
       " 'RB',\n",
       " 'VBD',\n",
       " 'VB',\n",
       " 'CC',\n",
       " 'of',\n",
       " ')',\n",
       " '(',\n",
       " 'TO',\n",
       " 'to',\n",
       " 'CD',\n",
       " 'VBG',\n",
       " 'and',\n",
       " 'VBZ',\n",
       " ':',\n",
       " 'a',\n",
       " 'PRP',\n",
       " 'VBP',\n",
       " '``',\n",
       " 'in',\n",
       " \"''\",\n",
       " 'on',\n",
       " 'that',\n",
       " 'for',\n",
       " 'MD',\n",
       " 'Wikipedia',\n",
       " 'is',\n",
       " 'was',\n",
       " 'PRP$',\n",
       " 'has',\n",
       " 'as',\n",
       " 'POS',\n",
       " 'be',\n",
       " 'with',\n",
       " \"'s\",\n",
       " 'by',\n",
       " 'WDT',\n",
       " 'The',\n",
       " 'nom',\n",
       " 'an',\n",
       " 'this']"
      ]
     },
     "execution_count": 41,
     "metadata": {},
     "output_type": "execute_result"
    }
   ],
   "source": [
    "[word for word, _ in sp_word_freq_dist_sample.most_common()][:50]"
   ]
  },
  {
   "cell_type": "code",
   "execution_count": 34,
   "metadata": {
    "collapsed": false,
    "scrolled": true
   },
   "outputs": [
    {
     "ename": "ValueError",
     "evalue": "too many values to unpack (expected 2)",
     "output_type": "error",
     "traceback": [
      "\u001b[0;31m---------------------------------------------------------------------------\u001b[0m",
      "\u001b[0;31mValueError\u001b[0m                                Traceback (most recent call last)",
      "\u001b[0;32m<ipython-input-34-c6174151e611>\u001b[0m in \u001b[0;36m<module>\u001b[0;34m()\u001b[0m\n\u001b[0;32m----> 1\u001b[0;31m \u001b[0mcdf\u001b[0m \u001b[1;33m=\u001b[0m \u001b[0mnltk\u001b[0m\u001b[1;33m.\u001b[0m\u001b[0mConditionalFreqDist\u001b[0m\u001b[1;33m(\u001b[0m\u001b[0msp_word_freq_dist_sample\u001b[0m\u001b[1;33m)\u001b[0m\u001b[1;33m\u001b[0m\u001b[0m\n\u001b[0m",
      "\u001b[0;32mC:\\Users\\Alex\\Anaconda3\\envs\\signpost-tags\\lib\\site-packages\\nltk\\probability.py\u001b[0m in \u001b[0;36m__init__\u001b[0;34m(self, cond_samples)\u001b[0m\n\u001b[1;32m   1750\u001b[0m         \u001b[0mdefaultdict\u001b[0m\u001b[1;33m.\u001b[0m\u001b[0m__init__\u001b[0m\u001b[1;33m(\u001b[0m\u001b[0mself\u001b[0m\u001b[1;33m,\u001b[0m \u001b[0mFreqDist\u001b[0m\u001b[1;33m)\u001b[0m\u001b[1;33m\u001b[0m\u001b[0m\n\u001b[1;32m   1751\u001b[0m         \u001b[1;32mif\u001b[0m \u001b[0mcond_samples\u001b[0m\u001b[1;33m:\u001b[0m\u001b[1;33m\u001b[0m\u001b[0m\n\u001b[0;32m-> 1752\u001b[0;31m             \u001b[1;32mfor\u001b[0m \u001b[1;33m(\u001b[0m\u001b[0mcond\u001b[0m\u001b[1;33m,\u001b[0m \u001b[0msample\u001b[0m\u001b[1;33m)\u001b[0m \u001b[1;32min\u001b[0m \u001b[0mcond_samples\u001b[0m\u001b[1;33m:\u001b[0m\u001b[1;33m\u001b[0m\u001b[0m\n\u001b[0m\u001b[1;32m   1753\u001b[0m                 \u001b[0mself\u001b[0m\u001b[1;33m[\u001b[0m\u001b[0mcond\u001b[0m\u001b[1;33m]\u001b[0m\u001b[1;33m[\u001b[0m\u001b[0msample\u001b[0m\u001b[1;33m]\u001b[0m \u001b[1;33m+=\u001b[0m \u001b[1;36m1\u001b[0m\u001b[1;33m\u001b[0m\u001b[0m\n\u001b[1;32m   1754\u001b[0m \u001b[1;33m\u001b[0m\u001b[0m\n",
      "\u001b[0;31mValueError\u001b[0m: too many values to unpack (expected 2)"
     ]
    }
   ],
   "source": [
    "cdf = nltk.ConditionalFreqDist(sp_word_freq_dist_sample)"
   ]
  }
 ],
 "metadata": {
  "anaconda-cloud": {},
  "kernelspec": {
   "display_name": "Python [conda env:signpost-tags]",
   "language": "python",
   "name": "conda-env-signpost-tags-py"
  },
  "language_info": {
   "codemirror_mode": {
    "name": "ipython",
    "version": 3
   },
   "file_extension": ".py",
   "mimetype": "text/x-python",
   "name": "python",
   "nbconvert_exporter": "python",
   "pygments_lexer": "ipython3",
   "version": "3.5.2"
  }
 },
 "nbformat": 4,
 "nbformat_minor": 1
}
