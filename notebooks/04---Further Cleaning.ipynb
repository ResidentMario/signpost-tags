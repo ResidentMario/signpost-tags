{
 "cells": [
  {
   "cell_type": "code",
   "execution_count": 1,
   "metadata": {
    "collapsed": true
   },
   "outputs": [],
   "source": [
    "import json\n",
    "\n",
    "with open(\"../data/intermediate_texts.json\", \"r\") as f:\n",
    "    signpost = json.loads(f.read())"
   ]
  },
  {
   "cell_type": "code",
   "execution_count": 2,
   "metadata": {
    "collapsed": false
   },
   "outputs": [],
   "source": [
    "texts = [[line.replace(\"\\n\", \"\") for line in block['text'] if \"←\" not in line and \"→\" not in line and line != \"\\n\"] for block in signpost]"
   ]
  },
  {
   "cell_type": "code",
   "execution_count": 3,
   "metadata": {
    "collapsed": false,
    "scrolled": false
   },
   "outputs": [
    {
     "data": {
      "text/plain": [
       "['Your Traffic Reports for the weeks of May 8–14 and May 15–21, 2016:',\n",
       " 'Splitting (musical) airs (May 8–14, 2016)',\n",
       " \"We've recently come into possession of a new tool. The Wikimedia Foundation has finally got its analytics together and made its own version of the raw data list. This is all well and good; we always need new checks and balances to be sure we're excluding the right articles. But there's a problem; the two lists use different algorithms to arrive at their numbers, which means that, while the actual entrants on each list are the same, their counts can differ by more than 100,000 views. This doesn't tend to affect the top articles, which are usually too far apart for the differences to matter. But once you get down to the mid-and-bottom end, where the numbers are closer together, it's a sandstorm. This becomes particularly problematic when deciding which articles are actually in the Top 25 in the first place. So. Lacking any actual information regarding which algorithms are correct, I decided the best course of action was to split the difference. Literally. I added the numbers up, divided by two and whichever numbers resulted, that was the order I put them in. Which means that the current list is based on numbers in both data sets.\",\n",
       " 'For the full top-25 lists (and our archives back to January 2013), see WP:TOP25. See this section for an explanation of any exclusions. For a list of the most edited articles every week, see WP:MOSTEDITED. For the most popular articles that ORES models predict are low quality, see WP:POPULARLOWQUALITY.',\n",
       " 'As prepared by Serendipodous, for the week of May 8–14, 2016, the 10 most popular articles on Wikipedia, as determined from the combined average of the Top 5000 and TopViews, were:',\n",
       " 'Rank',\n",
       " 'Article',\n",
       " 'Class',\n",
       " 'Views',\n",
       " 'Image',\n",
       " 'Notes',\n",
       " '1',\n",
       " 'Captain America: Civil War',\n",
       " '3,332,940',\n",
       " \"The 13th episode of Marvel Studios' reinvented movie serial is certain to reclaim the top spot at the US box office this weekend. Having earned $242\\xa0million in just eight days, its performance is about on par with Batman v Superman. But that film was the supposed launch of an entire franchise featuring the epic duel of two of the best known and iconic characters in all of comicdom. This is just another day at the Marvel office. For someone at Disney, life is very good indeed.\",\n",
       " '2',\n",
       " 'Eurovision Song Contest 2016',\n",
       " '936,232',\n",
       " 'For the first time in history, Americans were able to watch the annual sequinfest in all its interminable, trashy, gaudy glory, and no doubt come out of it wondering what all the fuss was about. Well here\\'s what it\\'s about: Europe\\'s in a mess. We\\'ve got Russia making moves on Ukraine, Greece in seemingly permanent crisis, a flood of refugees bringing out the worst in us, and Britain thinking about leaving. In all that, we need something that brings us all together, no matter how corny. And here is the one chance the nations of Europe have to buoy each other up (unless they\\'re the UK, in which case, a hug from Ireland is all we generally get). Nonetheless, this year\\'s contest (Held at the Stockholm Globe Arena, pictured) ultimately boiled down to a battle between Russia and Ukraine, which, thanks to some passive-aggressive tactical voting in the former Soviet bloc, Ukraine won with the pointedly anti-Russian song \"1944\".',\n",
       " '3',\n",
       " 'Deaths in 2016',\n",
       " '672,782',\n",
       " 'The annual list of deaths, always a fairly consistent visitor to this list, saw its average views jump after the death of David Bowie, and another jump after the death of Prince.',\n",
       " '4',\n",
       " 'Donald Trump',\n",
       " '633,258',\n",
       " \"Numbers are down across the board this week, so Trump's relatively high position belies a drop in numbers of more than a third. With the GOP nomination in the bag, and only a small amount of off-the-cuff craziness to keep the public amused, viewers seem to be following the GOP and coming to quiet terms with the idea of his candidacy.\",\n",
       " '5',\n",
       " 'Game of Thrones (season 6)',\n",
       " '586,085',\n",
       " 'The latest season of this eternally popular TV series premiered on HBO on April 24.',\n",
       " '6',\n",
       " 'Game of Thrones',\n",
       " '540,263',\n",
       " 'See above.',\n",
       " '7',\n",
       " 'Stephen Curry',\n",
       " '539,645',\n",
       " 'This week, the basketball player for the Golden State Warriors won the title of MVP for the second straight year, and became the first player to win the title unanimously.',\n",
       " '8',\n",
       " 'X-Men: Apocalypse',\n",
       " '531,161',\n",
       " 'Hopes were high for this after the rapturous critical and commercial reception given to Bryan Singer\\'s previous X-Men film, Days of Future Past; unfortunately the reviews for the followup have been largely negative, with the film struggling to reach a 60% \"Fresh\" rating on Rotten Tomatoes. How this will affect its box office performance when it opens over the next few weeks is uncertain, but Fox must be somewhat tense right now.',\n",
       " '9',\n",
       " \"Mother's Day\",\n",
       " '506,879',\n",
       " \"The second Sunday in May (that's May 8 to all you ingrates who forgot) is far and away the most popular time of year around the world to celebrate Mother's Day.\",\n",
       " '10',\n",
       " 'Black Panther (comics)',\n",
       " '470,418',\n",
       " \"King T'Challa of Wakanda, chieftain of the Panther Clan and avatar of the Panther God, was the first ever true black superhero, created by Stan Lee in 1966. The name, amazingly, actually predates that of the Black Panther Party, which was founded the same year. Wikipedia users decided to delve into his extensive history after seeing him in live action for the first time in Captain America: Civil War, and ahead of his stand-alone movie in two years.\",\n",
       " 'Slow Ride (May 15–21, 2016)',\n",
       " 'It only took 321,173 views to make the Top 25 most-viewed articles the week of May 15–21, the lowest this year to date by over 35,000 views. Captain America: Civil War leads the chart for a third straight week, though its 1.28\\xa0million views is also the lowest #1 view count for the year, and well below the very respectable 3.33\\xa0million views it got last week. What seems odd is that EgyptAir Flight 804, which crashed into the Mediterranean Sea on May 19, does not appear at all in the Top 25. It is only #30. Anecdotally, it seems to have received far less press coverage than recent disasters like Malaysia Airlines Flight 370, which remained on the chart for five weeks after occurring in March 2014. This is not a case of a disaster happening at the end of a week such that it only shows up the following week, its views were highest on May 19, and have dropped daily since. If I had to guess a cause, I would suggest that Donald Trump (#8) and the American presidential election is sucking up a great deal of the press bandwidth in the United States.',\n",
       " 'For the full top-25 lists (and our archives back to January 2013), see WP:TOP25. See this section for an explanation of any exclusions. For a list of the most edited articles every week, see WP:MOSTEDITED. For the most popular articles that ORES models predict are low quality, see WP:POPULARLOWQUALITY.',\n",
       " 'As prepared by Milowent, for the week of May 15 to 21, 2016, the 10 most popular articles on Wikipedia, as determined from the Top 5000 (TopViews was pretty consistent this week), were:',\n",
       " 'Rank',\n",
       " 'Article',\n",
       " 'Class',\n",
       " 'Views',\n",
       " 'Image',\n",
       " 'Notes',\n",
       " '1',\n",
       " 'Captain America: Civil War',\n",
       " '1,284,748',\n",
       " \"Though views are down over half from last week's 3.3\\xa0million, this movie hangs on to the top spot for a third straight week. Not too surprising, since it has already earned over one billion dollars in worldwide revenue.\",\n",
       " '2',\n",
       " 'X-Men: Apocalypse',\n",
       " '1,009,485',\n",
       " 'Hopes were high for this after the rapturous critical and commercial reception given to Bryan Singer\\'s previous X-Men film, Days of Future Past; unfortunately the reviews for the followup have been largely negative, with the film struggling to reach a 60% \"Fresh\" rating on Rotten Tomatoes. How this will affect its box office performance when it opens over the next few weeks is uncertain, but Fox must be somewhat tense right now.',\n",
       " '3',\n",
       " 'Yuri Kochiyama',\n",
       " '940,581',\n",
       " 'Seeing this name, one previously unknown to me, with a 26% mobile view rate, I knew it would be due to a Google Doodle. Yet, the lead sentence of her article describes that she was \"a Japanese American political activist influenced by Marxism, Maoism, and the thoughts of Malcolm X. She is notable as one of the few prominent non-black Black nationalists.\" That seems quite controversial for a Doodle, but Google\\'s statement celebrating what would have been her 95th birthday describes her as \"an Asian American activist who dedicated her life to the fight for human rights and against racism and injustice.\" This seems fairly noble, and Google also notes she lived in a Japanese internment camp during World War II. The Doodle did cause some controversy among American conservatives.',\n",
       " '4',\n",
       " 'Eurovision Song Contest 2016',\n",
       " '690,458',\n",
       " 'Returning for a second week. For the first time in history, Americans were able to watch the annual sequinfest in all its interminable, trashy, gaudy glory, and no doubt come out of it wondering what all the fuss was about. Well here\\'s what it\\'s about: Europe\\'s in a mess. We\\'ve got Russia making moves on Ukraine, Greece in seemingly permanent crisis, a flood of refugees bringing out the worst in us, and Britain thinking about leaving. In all that, we need something that brings us all together, no matter how corny. And here is the one chance the nations of Europe have to buoy each other up (unless they\\'re the UK, in which case, a hug from Ireland is all we generally get). Nonetheless, this year\\'s contest (Held at the Stockholm Globe Arena, pictured) ultimately boiled down to a battle between Russia and Ukraine, which, thanks to some passive-aggressive tactical voting in the former Soviet bloc, Ukraine won with the pointedly anti-Russian song \"1944\".',\n",
       " '5',\n",
       " 'Game of Thrones (season 6)',\n",
       " '676,916',\n",
       " \"The latest season of this eternally popular TV series premiered on HBO on April 24. I don't watch Game of Thrones, but I usually know when it is on due to cryptic tweets of distress and disbelief during each episode.\",\n",
       " '6',\n",
       " 'Deaths in 2016',\n",
       " '642,063',\n",
       " 'The annual list of deaths, always a fairly consistent visitor to this list, saw its average views jump after the death of David Bowie, and another jump after the death of Prince (who departed the Top 25 this week after four straight appearances).',\n",
       " '7',\n",
       " 'Mohammad Azharuddin',\n",
       " '607,098',\n",
       " 'Up from #11 and 458K views last week. The once-beloved cricket captain turned politician was brought low in 2000 after a match-fixing scandal, dramatised recently by the Bollywood film Azhar (#25)',\n",
       " '8',\n",
       " 'Donald Trump',\n",
       " '568,970',\n",
       " \"Like Deaths in 2016 (#6), Donald Trump seems to have permanently set up camp in the Top 10. If he gets elected, he might be a permanent number one. Ahem. I can't say anymore.\",\n",
       " '9',\n",
       " 'Game of Thrones',\n",
       " '566,744',\n",
       " 'See #5.',\n",
       " '10',\n",
       " 'Morley Safer',\n",
       " '550,159',\n",
       " 'The longtime journalist and reporter for the American television show 60 Minutes died just a week after announcing his retirement.']"
      ]
     },
     "execution_count": 3,
     "metadata": {},
     "output_type": "execute_result"
    }
   ],
   "source": [
    "texts[-1]"
   ]
  },
  {
   "cell_type": "code",
   "execution_count": 4,
   "metadata": {
    "collapsed": true
   },
   "outputs": [],
   "source": [
    "bylines = [block['authors'] for block in signpost]"
   ]
  },
  {
   "cell_type": "markdown",
   "metadata": {},
   "source": [
    "The bylines are kind of a mess because of something that would be difficult to fix: the mixing of `()` formats, sometimes for names (e.g. `Ed Edhart (WMF)`) and sometimes for attribution of article duties (e.g. `The Herald (articles, lists)` or the even more common `Ed Edhart (main), Tony1 (in brief)`). Not much to be done there that doesn't involve manual parsing, which I'm not interested in doing."
   ]
  },
  {
   "cell_type": "code",
   "execution_count": 5,
   "metadata": {
    "collapsed": false
   },
   "outputs": [
    {
     "data": {
      "text/plain": [
       "[['Milowent', 'Serendipodous'],\n",
       " ['Ed Erhart (WMF)'],\n",
       " ['Gamaliel'],\n",
       " ['William Beutler'],\n",
       " ['William Beutler'],\n",
       " ['Wikimedia tech ambassadors'],\n",
       " ['Gamaliel', 'Andreas Kolbe', 'Noyster'],\n",
       " ['Gamaliel'],\n",
       " ['Legoktm'],\n",
       " ['Go Phightins!', 'Tony1'],\n",
       " ['Gamaliel', 'Andreas Kolbe'],\n",
       " ['Go Phightins!', 'Harry Mitchell'],\n",
       " ['The Herald (articles', 'lists)', 'Adam Cuerden', 'Hafspajen'],\n",
       " ['Serendipodous'],\n",
       " ['The ed17'],\n",
       " ['The ed17'],\n",
       " ['Mabeenot'],\n",
       " ['Piotrus'],\n",
       " ['Tony1'],\n",
       " ['Hahc21', 'Adam Cuerden'],\n",
       " ['Neotarf'],\n",
       " ['Piotr Konieczny',\n",
       "  'Aaron Halfaker',\n",
       "  'Taha Yasseri',\n",
       "  'Daniel Mietchen',\n",
       "  'Tilman Bayer'],\n",
       " ['Mabeenot'],\n",
       " ['The ed17'],\n",
       " ['J36miles'],\n",
       " ['Mabeenot'],\n",
       " ['Mabeenot'],\n",
       " ['Crisco'],\n",
       " ['Jarry1250'],\n",
       " ['Lord Roem'],\n",
       " ['Lord Roem'],\n",
       " ['Mabeenot'],\n",
       " ['Skomorokh'],\n",
       " ['Tom Morris', 'Jarry1250', 'SMasters'],\n",
       " ['HaeB'],\n",
       " ['HaeB'],\n",
       " ['Thomas888b', 'HaeB'],\n",
       " ['Username'],\n",
       " ['Ohconfucius'],\n",
       " ['Lumos3', 'HaeB'],\n",
       " ['Wackywace', 'HaeB', 'Tony1'],\n",
       " ['Wackywace', 'Tarheel95', 'Jarry1250', 'Pretzels', 'HaeB'],\n",
       " ['Mabeenot'],\n",
       " ['KnightLago', 'Phoebe', 'Icewedge', 'HaeB'],\n",
       " ['MWOAP'],\n",
       " ['Aude'],\n",
       " ['Aude'],\n",
       " ['GerardM'],\n",
       " ['Phoebe', 'Ragesoss', 'Avjoska'],\n",
       " ['Ragesoss'],\n",
       " ['Phoebe', 'Ragesoss'],\n",
       " ['Aude'],\n",
       " ['Michael Snow'],\n",
       " ['Michael Snow'],\n",
       " ['Michael Snow'],\n",
       " ['Michael Snow'],\n",
       " ['Worldtraveller'],\n",
       " ['Michael Snow'],\n",
       " ['Flcelloguy'],\n",
       " ['Michael Snow'],\n",
       " ['Flcelloguy'],\n",
       " ['Ral315'],\n",
       " ['Ral315'],\n",
       " ['Ral315'],\n",
       " ['Ral315'],\n",
       " ['Flcelloguy', 'Carmelapple'],\n",
       " ['ForestH2'],\n",
       " ['Kzhr'],\n",
       " ['Trödel'],\n",
       " ['Ral315'],\n",
       " ['Simetrical'],\n",
       " ['Lumos3'],\n",
       " ['Ral315', 'Joyradost'],\n",
       " ['Enochlau'],\n",
       " ['David Mestel'],\n",
       " ['O'],\n",
       " ['Arknascar44'],\n",
       " ['Greg Williams'],\n",
       " ['OhanaUnited'],\n",
       " ['David Mestel'],\n",
       " ['Pete Forsyth'],\n",
       " ['Ral315', 'David Mestel'],\n",
       " ['ais523'],\n",
       " ['Ral315'],\n",
       " ['David Fuchs', 'Scorpion0422'],\n",
       " ['Ragesoss']]"
      ]
     },
     "execution_count": 5,
     "metadata": {},
     "output_type": "execute_result"
    }
   ],
   "source": [
    "bylines[::-50]"
   ]
  },
  {
   "cell_type": "markdown",
   "metadata": {},
   "source": [
    "That's it then!"
   ]
  },
  {
   "cell_type": "code",
   "execution_count": 6,
   "metadata": {
    "collapsed": true
   },
   "outputs": [],
   "source": [
    "signpost = [{'text': text, 'authors': post['authors'], 'headline': post['headline']} for text, post in zip(texts, signpost)]"
   ]
  },
  {
   "cell_type": "code",
   "execution_count": 7,
   "metadata": {
    "collapsed": false
   },
   "outputs": [],
   "source": [
    "import json\n",
    "\n",
    "with open(\"../data/final_texts.json\", \"w\") as f:\n",
    "    f.write(json.dumps(signpost, indent=4))"
   ]
  },
  {
   "cell_type": "code",
   "execution_count": 2,
   "metadata": {
    "collapsed": false
   },
   "outputs": [],
   "source": [
    "import json\n",
    "\n",
    "with open(\"../data/final_texts.json\", \"r\") as f1:\n",
    "    with open(\"../data/signpost_corpus.txt\", \"wb\") as f2:\n",
    "        f2.write(\"\\n\\n\".join([\"\\n\".join(block['text']) for block in json.loads(f1.read())]).encode('utf-8'))"
   ]
  }
 ],
 "metadata": {
  "anaconda-cloud": {},
  "kernelspec": {
   "display_name": "Python [conda env:signpost-tags]",
   "language": "python",
   "name": "conda-env-signpost-tags-py"
  },
  "language_info": {
   "codemirror_mode": {
    "name": "ipython",
    "version": 3
   },
   "file_extension": ".py",
   "mimetype": "text/x-python",
   "name": "python",
   "nbconvert_exporter": "python",
   "pygments_lexer": "ipython3",
   "version": "3.5.2"
  }
 },
 "nbformat": 4,
 "nbformat_minor": 1
}
