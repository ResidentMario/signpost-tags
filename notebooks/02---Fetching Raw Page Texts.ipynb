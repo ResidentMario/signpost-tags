{
 "cells": [
  {
   "cell_type": "code",
   "execution_count": 1,
   "metadata": {
    "collapsed": true
   },
   "outputs": [],
   "source": [
    "import mwapi"
   ]
  },
  {
   "cell_type": "code",
   "execution_count": 2,
   "metadata": {
    "collapsed": true
   },
   "outputs": [],
   "source": [
    "session = mwapi.Session('https://en.wikipedia.org', user_agent='test-notebook')"
   ]
  },
  {
   "cell_type": "code",
   "execution_count": 24,
   "metadata": {
    "collapsed": false
   },
   "outputs": [
    {
     "name": "stdout",
     "output_type": "stream",
     "text": [
      "Wikipedia_Signpost/2006-01-16/Steward_election\n",
      "Wikipedia_Signpost/2006-12-26/Arbitration_series\n",
      "Wikipedia_Signpost/2007-12-03/Arbitration_series\n",
      "Wikipedia_Signpost/2008-11-08/News_and_notes\n",
      "Wikipedia_Signpost/2009-11-23/Features_and_admins\n",
      "Wikipedia_Signpost/2011-01-10/WikiProject_report\n",
      "Wikipedia_Signpost/2012-03-26/Recent_research\n",
      "Wikipedia_Signpost/2013-07-17/News_and_notes\n",
      "Wikipedia_Signpost/2014-12-31/Recent_research\n",
      "Wikipedia_Signpost/2016-03-02/News_and_notes\n"
     ]
    }
   ],
   "source": [
    "result_sets = []\n",
    "apcontinue = \"\"\n",
    "while True:\n",
    "    result =  session.get(action='query',\n",
    "                          list='allpages',\n",
    "#                              apfrom='2005',\n",
    "                          apto='Wikipedia Signpost/A',\n",
    "                          apprefix='Wikipedia Signpost/20',\n",
    "                          apnamespace=4,\n",
    "                          aplimit=500,\n",
    "                          formatversion=2,\n",
    "                          apfilterredir='nonredirects',\n",
    "                          apcontinue=apcontinue)\n",
    "    result_sets.append(result)\n",
    "    if 'continue' in result.keys() and 'apcontinue' in result['continue'].keys():\n",
    "        apcontinue = result['continue']['apcontinue']\n",
    "        print(apcontinue)\n",
    "    else:\n",
    "        break"
   ]
  },
  {
   "cell_type": "code",
   "execution_count": 25,
   "metadata": {
    "collapsed": false,
    "scrolled": true
   },
   "outputs": [],
   "source": [
    "pages = []\n",
    "for result in result_sets:\n",
    "    pages += [p_ret['title'] for p_ret in result['query']['allpages']]"
   ]
  },
  {
   "cell_type": "code",
   "execution_count": 26,
   "metadata": {
    "collapsed": false
   },
   "outputs": [
    {
     "data": {
      "text/plain": [
       "5159"
      ]
     },
     "execution_count": 26,
     "metadata": {},
     "output_type": "execute_result"
    }
   ],
   "source": [
    "len(pages)"
   ]
  },
  {
   "cell_type": "code",
   "execution_count": 27,
   "metadata": {
    "collapsed": false
   },
   "outputs": [
    {
     "data": {
      "text/plain": [
       "['Wikipedia:Wikipedia Signpost/2005-01-10',\n",
       " 'Wikipedia:Wikipedia Signpost/2005-01-10/AMA election',\n",
       " 'Wikipedia:Wikipedia Signpost/2005-01-10/Arbitration report',\n",
       " 'Wikipedia:Wikipedia Signpost/2005-01-10/Credibility',\n",
       " 'Wikipedia:Wikipedia Signpost/2005-01-10/Features',\n",
       " 'Wikipedia:Wikipedia Signpost/2005-01-10/From the editor',\n",
       " 'Wikipedia:Wikipedia Signpost/2005-01-10/Fundraiser',\n",
       " 'Wikipedia:Wikipedia Signpost/2005-01-10/Instapundit',\n",
       " 'Wikipedia:Wikipedia Signpost/2005-01-10/Portal',\n",
       " 'Wikipedia:Wikipedia Signpost/2005-01-10/QuakeAID',\n",
       " 'Wikipedia:Wikipedia Signpost/2005-01-10/SPV',\n",
       " 'Wikipedia:Wikipedia Signpost/2005-01-10/Speedy deletion',\n",
       " 'Wikipedia:Wikipedia Signpost/2005-01-10/Top 100',\n",
       " 'Wikipedia:Wikipedia Signpost/2005-01-10/Upgrade',\n",
       " 'Wikipedia:Wikipedia Signpost/2005-01-17',\n",
       " 'Wikipedia:Wikipedia Signpost/2005-01-17/Arbitration report',\n",
       " 'Wikipedia:Wikipedia Signpost/2005-01-17/Celebrities',\n",
       " 'Wikipedia:Wikipedia Signpost/2005-01-17/Country infoboxes',\n",
       " 'Wikipedia:Wikipedia Signpost/2005-01-17/Features',\n",
       " 'Wikipedia:Wikipedia Signpost/2005-01-17/From the editor']"
      ]
     },
     "execution_count": 27,
     "metadata": {},
     "output_type": "execute_result"
    }
   ],
   "source": [
    "pages[:20]"
   ]
  },
  {
   "cell_type": "code",
   "execution_count": 28,
   "metadata": {
    "collapsed": true
   },
   "outputs": [],
   "source": [
    "articles = [page for page in pages if len(page.split(\"/\")) >= 3]"
   ]
  },
  {
   "cell_type": "code",
   "execution_count": 29,
   "metadata": {
    "collapsed": false
   },
   "outputs": [
    {
     "data": {
      "text/plain": [
       "['Wikipedia:Wikipedia Signpost/2005-01-10/AMA election',\n",
       " 'Wikipedia:Wikipedia Signpost/2005-01-10/Arbitration report',\n",
       " 'Wikipedia:Wikipedia Signpost/2005-01-10/Credibility',\n",
       " 'Wikipedia:Wikipedia Signpost/2005-01-10/Features',\n",
       " 'Wikipedia:Wikipedia Signpost/2005-01-10/From the editor',\n",
       " 'Wikipedia:Wikipedia Signpost/2005-01-10/Fundraiser',\n",
       " 'Wikipedia:Wikipedia Signpost/2005-01-10/Instapundit',\n",
       " 'Wikipedia:Wikipedia Signpost/2005-01-10/Portal',\n",
       " 'Wikipedia:Wikipedia Signpost/2005-01-10/QuakeAID',\n",
       " 'Wikipedia:Wikipedia Signpost/2005-01-10/SPV',\n",
       " 'Wikipedia:Wikipedia Signpost/2005-01-10/Speedy deletion',\n",
       " 'Wikipedia:Wikipedia Signpost/2005-01-10/Top 100',\n",
       " 'Wikipedia:Wikipedia Signpost/2005-01-10/Upgrade',\n",
       " 'Wikipedia:Wikipedia Signpost/2005-01-17/Arbitration report',\n",
       " 'Wikipedia:Wikipedia Signpost/2005-01-17/Celebrities',\n",
       " 'Wikipedia:Wikipedia Signpost/2005-01-17/Country infoboxes',\n",
       " 'Wikipedia:Wikipedia Signpost/2005-01-17/Features',\n",
       " 'Wikipedia:Wikipedia Signpost/2005-01-17/From the editor',\n",
       " 'Wikipedia:Wikipedia Signpost/2005-01-17/Fvw',\n",
       " 'Wikipedia:Wikipedia Signpost/2005-01-17/In the media']"
      ]
     },
     "execution_count": 29,
     "metadata": {},
     "output_type": "execute_result"
    }
   ],
   "source": [
    "articles[:20]"
   ]
  },
  {
   "cell_type": "code",
   "execution_count": 30,
   "metadata": {
    "collapsed": false
   },
   "outputs": [
    {
     "data": {
      "text/plain": [
       "4567"
      ]
     },
     "execution_count": 30,
     "metadata": {},
     "output_type": "execute_result"
    }
   ],
   "source": [
    "len(articles)"
   ]
  },
  {
   "cell_type": "code",
   "execution_count": 35,
   "metadata": {
    "collapsed": false
   },
   "outputs": [
    {
     "name": "stdout",
     "output_type": "stream",
     "text": [
      "\n"
     ]
    }
   ],
   "source": [
    "from tqdm import tqdm_notebook\n",
    "raw_texts = [session.get(action='parse', format='json', page=page, prop='text', formatversion=2)['parse']['text'] for page in tqdm_notebook(articles)]"
   ]
  },
  {
   "cell_type": "code",
   "execution_count": 47,
   "metadata": {
    "collapsed": false
   },
   "outputs": [
    {
     "name": "stdout",
     "output_type": "stream",
     "text": [
      "\n",
      "\n",
      "\n",
      "\n",
      "\n",
      "\n",
      "\n",
      "\n",
      "← Back to Contents\n",
      "View Latest Issue\n",
      "21 January 2015\n",
      "\n",
      "\n",
      "Anniversary\n",
      "A decade of the Signpost\n",
      "\n",
      "\n",
      "Contribute  —  \n",
      "Share this  \n",
      "\n",
      "\n",
      "\n",
      " E-mail\n",
      " Facebook\n",
      " Twitter\n",
      " Google+\n",
      " LinkedIn\n",
      " Reddit\n",
      " StumbleUpon\n",
      " Delicious\n",
      " Digg\n",
      "\n",
      "\n",
      "\n",
      "\n",
      "By Gamaliel\n",
      "Thanks to Michael Snow, Ral315, The ed17, and Adam Cuerden for their assistance in assembling this feature.\n",
      "2005\n",
      "\n",
      "\n",
      "\n",
      "\n",
      "John Seigenthaler\n",
      "\n",
      "\n",
      "The Wikipedia Signpost was founded by Michael Snow, beginning with the publication of the January 10, 2005 issue. That issue contained ten articles, all written by Snow, beginning with his introduction \"From the editor\". It also contained the first Arbitration Report (\"The Report On Lengthy Litigation\", or TROLL), which would become a long-time staple of the Signpost. Snow headed up the Signpost until August, when Ral315 took over.\n",
      "News reports in the Signpost discussed the growing pains of the early years of Wikipedia. In February, the main page was locked down after major vandalism and a power outage caused Wikipedia to crash for a day. In March, Wikipedia reached a half-million articles. While Wikipedia was the subject of hoaxes and misinformation, it was able to deftly respond to breaking news such as its article on the July London bombings.\n",
      "One of Wikipedia's biggest challenges came with Wikipedia's first major public scandal, the Seigenthaler biography incident. The Signpost reported on the initial controversy and the identification of the hoaxer.\n",
      "\n",
      "2006\n",
      "\n",
      "\n",
      "\n",
      "\n",
      "Jordanhill railway station\n",
      "\n",
      "\n",
      "In 2006, Wikipedia hit one million articles with its article Jordanhill railway station.\n",
      "The Signpost conducted an interview with Jimmy Wales in February. In December, it featured the first installment of a comic strip called WikiWorld, created by cartoonist Greg Williams. WikiWorld, which ran intermittently until 2008, remains one of the most fondly remembered Signpost features.\n",
      "In January, the Signpost reported that editors uncovered multiple instances of plagiarism of Wikipedia by a professional reporter. It covered the ongoing discussion of Wikimedia Foundation office actions and an incident where a veteran administrator was briefly stripped of administrative powers for undoing an office action. It discussed early efforts to address Wikipedia's gender gap, an issue that is still ongoing. It also reported on an editor for hire who was permanently blocked, an editor who remains a perennial Wikipedia critic.\n",
      "\n",
      "2007\n",
      "\n",
      "\n",
      "\n",
      "\n",
      "Jimmy Wales\n",
      "\n",
      "\n",
      "\n",
      "Sue Gardner\n",
      "\n",
      "\n",
      "\n",
      "\n",
      "The Signpost conducted another interview with Wales in September and an interview with incoming Wikimedia Foundation director Sue Gardner in December.\n",
      "The Signpost covered several significant news stories in 2007. It reported on WikiScanner, a tool which matched edits made by anonymous IP editors to a number of organizations, resulting in revelations which proved embarrassing to numerous companies and media and political organizations. Embarrassing for Wikipedia was the Essjay controversy, where a well-regarded Wikipedia editor and Wikia employee was revealed to have lied about his academic credentials and background. And revelations that the article of a nutrition author was edited by his own public relations agent led to one of the most amusing headlines in Signpost history, \"Nutritional beef cooks PR editor\".\n",
      "\n",
      "2008\n",
      "\n",
      "\n",
      "\n",
      "\n",
      "One of the historical images of Muhammad which raised objections in 2008\n",
      "\n",
      "\n",
      "Early in 2008, the Signpost reported on a controversy which erupted over a number of historical images depicting Muhammad. Visual depictions of Muhammad are offensive to many Muslims. The presence of the images on Wikipedia prompted a 100,000 signature petition demanding their removal, but Wikipedia editors ultimately decided to retain the images. Later in the year, the Signpost reported on another image controversy after an image of the cover of the Scorpions' album Virgin Killer prompted media complaints and even a brief blacklisting of Wikipedia by the Internet Watch Foundation.\n",
      "In a year of sensitive and controversial news stories, perhaps the most difficult was the Signpost's two-part series on the relationship between Jimmy Wales and Canadian commentator Rachel Marsden. Their brief relationship was the subject of salacious stories in the news media, but unlike most news outlets the Signpost treated the matter seriously instead of as gossip. It reported on the relationship and the fallout from the scandal, investigating allegations of impropriety and exploring how the matter affected the encyclopedia.\n",
      "\n",
      "2009\n",
      "\n",
      "\n",
      "\n",
      "\n",
      "Church of Scientology building in Los Angeles\n",
      "\n",
      "\n",
      "Ragesoss took the reins of the Signpost in February.\n",
      "The Signpost covered a number of issues that year, including a series of stories about the community's adoption of the Creative Commons license for encyclopedia content. The conclusion of the Scientology Arbitration case made headlines when the Committee banned IP addresses belonging to the Church of Scientology. The National Portrait Gallery threatened a lawsuit over images used on Wikimedia projects they claimed were under copyright in the UK, but were clearly in the public domain in the US and elsewhere. A fabricated quote attributed to the late composer Maurice Jarre by a Wikipedia editor and a performance art project on the encyclopedia and related legal matters were also reported on by the Signpost.\n",
      "\n",
      "2010\n",
      "\n",
      "\n",
      "\n",
      "\n",
      "Larry Sanger\n",
      "\n",
      "\n",
      "HaeB took over the Signpost in June. In August, the Wikipedia Signpost officially shortened its name to the Signpost to reflect its coverage of Wikimedia projects beyond the English Wikipedia.\n",
      "The Signpost published a series of stories on Wikipedia's new user interface and reported on the encyclopedia's 3,000th Featured Article. It reported on serious allegations by Larry Sanger to the Federal Bureau of Investigation that the Wikimedia Foundation was \"knowingly distributing child pornography\" by hosting some unspecified images on Wikimedia Commons. Sanger co-founded Wikipedia but has become a frequent critic of the project. The FBI was also in the news in 2010 in relation to Wikipedia when it demanded the removal of FBI seal from the encyclopedia, prompting a cutting public response from Wikimedia Foundation counsel Mike Godwin.\n",
      "\n",
      "2011\n",
      "\n",
      "In January, Wikipedia celebrated its tenth anniversary and the Signpost covered the commemorations both on and off the project. Later that month, the Signpost reported on a front page New York Times story about Wikipedia's gender gap and the ensuing discussion on Wikipedia. Later that year, the Signpost reported on the shutdown protest of the Italian Wikipedia in response to controversial legislation before the Italian Parliament and the creation of the Wikipedia Zero initiative. Also in the news were Wikipedia controversies involving reporter Johann Hari and former politician Sarah Palin.\n",
      "\n",
      "2012\n",
      "\n",
      "\n",
      "\n",
      "\n",
      "A bubble map of the global distribution of English Wikipedia edits on 10 May 2011\n",
      "\n",
      "\n",
      "The ed17 became editor-in-chief of the Signpost in May.\n",
      "The Signpost reported on the blackout of Wikipedia in January due to the proposed Stop Online Piracy Act. Several other controversial issues arose that year. A scandal involving conflict of interest editing prompted the resignation of the chair of Wikimedia UK. The Signpost chronicled the difficulties surrounding the foundation of a new Wikimedia project called WikiVoyage. The Signpost's regular \"WikiProject Report\" published an in-depth investigation called \"Where in the world is Wikipedia?\" examining how editors successfully and not so successfully collaborate together on WikiProjects in different parts of the world.\n",
      "\n",
      "2013\n",
      "\n",
      "\n",
      "\n",
      "\n",
      "Aaron Swartz\n",
      "\n",
      "\n",
      "The Signpost began the year with an interview with Sue Gardner and a report on the untimely death of activist and Wikipedia editor Aaron Swartz. It continued its reporting on the foundation of WikiVoyage, following that up with a controversial report about some aspects of that project. The Signpost also investigated the Funds Dissemination Committee and published a series of reports on a scandal involving widespread paid advocacy editing by Wiki-PR, a now-former public relations company, and the resulting fallout. One of the most popular features in the Signpost that year was a special report called \"Examining the popularity of Wikipedia articles: catalysts, trends, and applications\".\n",
      "\n",
      "2014\n",
      "\n",
      "\n",
      "\n",
      "\n",
      "Lila Tretikov\n",
      "\n",
      "\n",
      "\n",
      "Adrianne Wadewitz\n",
      "\n",
      "\n",
      "\n",
      "\n",
      "One of the most popular Signpost stories of 2014 was its June report on the US National Archives and Records Administration's inclusion of Wikipedia in its Open Government Plan, which encompasses efforts such as uploading over 100,000 images to Wikimedia Commons. A related report demonstrated how its initiatives made it easier for institutions like NARA to upload their holdings to Commons. Also in June, the Signpost interviewed incoming Wikimedia Foundation director Lila Tretikov.\n",
      "The Signpost reported on a quickly withdrawn $10 million lawsuit against four Wikipedia editors and how a series of Twitter bots revealed widespread government editing of Wikipedia around the world. The Signpost also noted the unfortunate deaths of Wikipedians Adrianne Wadewitz and Ihor Kostenko.\n",
      "Behind the scenes, in late May, the Signpost gained a bit more exposure when its featured content section became part of Portal:Featured content.\n",
      "\n",
      "2015\n",
      "\n",
      "Go Phightins! and Gamaliel will take over leadership of the Signpost towards the end of January.\n",
      "Where will the Signpost go in 2015? Much of that depends on you. We'd like to expand our coverage in many ways, reviving \"News and Notes\" as a regular section and doing more to check in with other projects and initiatives on Wikipedia and other Wikimedia projects. For us to be able to do that, we need you. Offer your ideas on our Suggestions page or visit our Newsroom to see where you can help.\n",
      "\n",
      "\n",
      "\n",
      "\n",
      "\n",
      "\n",
      "\n",
      "\n",
      "\n",
      "\n",
      "In this issue\n",
      "21 January 2015\n",
      "\n",
      "From the editor\n",
      "Anniversary\n",
      "Interview\n",
      "Op-ed\n",
      "News and notes\n",
      "In the media\n",
      "Featured content\n",
      "Arbitration report\n",
      "\n",
      "\n",
      "\n",
      "\n",
      "\n",
      "\n",
      "+ Add a commentDiscuss this story\n",
      "\n",
      "These comments are automatically transcluded from this article's talk page. To follow comments, add the page to your watchlist. If your comment has not appeared here, you can try purging the cache.\n",
      "\n",
      "\n",
      "Happy tenth, Signpost, and many thanks to the many volunteer editors who have in past years directed my attention to important issues and goings-on across the Wikimedia projects! Snow talk 11:23, 22 January 2015 (UTC)\n",
      "\n",
      "\n",
      "\n",
      "\n",
      "What Snow said... APK whisper in my ear 11:40, 22 January 2015 (UTC)\n",
      "\n",
      "What AgnosticPreachersKid said about what Snow Rise said. Cheers to everyone who made the Signpost what it is! Resolute 14:05, 22 January 2015 (UTC)\n",
      "\n",
      "\n",
      "\n",
      "\n",
      "\n",
      "\n",
      "I want to offer my apologies to Ed and Gamaliel, who asked me to add my voice to this... and I let it slip until it was too late. In the spirit of this anniversary issue, some of the things I remember fondly are the book reviews. Thanks so much to everyone who has contributed to — and read — the Signpost over the years!--ragesoss (talk) 16:43, 22 January 2015 (UTC)\n",
      "\n",
      "\n",
      "\n",
      "\n",
      "Wow, I forgot about the book reviews as well, and I've written two of them! Gamaliel (talk) 20:04, 22 January 2015 (UTC)\n",
      "\n",
      "\n",
      "\n",
      "\n",
      "Yes, but worse if input has been sent for consideration and swallowed by an uncoordinated process. At least two other people had prepared and emailed suggestions for improvements to this story. However, for the second time in three weeks, suddenly it was published without warning, leaving out important things in preparation (or ready for publication, like News and notes two weeks ago, despite prior email exchanges with the publisher—an omission that had to be laboriously fixed after the event).\n",
      "While this story is better than nothing, it's just a nicely put-together laundary list of \"things we covered\". It says nothing about critical aspects of the SP’s development, like the two successive changes that made reader feedback the norm. It's silent on the introduction of bot-driven subscriptions on en.WP, or later of bot-driven subscriptions beyond en.WP—critical to the wider reach and scope of the publication. So when did these changes happen? (Someone dug up and communicated that information, but it again fell foul of early publication without warning.) It says nothing about how reader numbers have grown and plateaued—a glaring omission. It provides not even a thumbnail sketch of the SP’s social, political, and administrative roles and how they have evolved (worth a very important paragraph). It misses opportunities to be interesting, such as by reminding us of the connection with a previous world, starting with the fact that when the Signpost was launched, en.WP was gloating about being in the top 100 (yes, 100) sites on the web; and that the WMF was thinking of hiring its first paid staff (both are in Snow’s articles early on). Tony (talk) 01:55, 23 January 2015 (UTC)\n",
      "\n",
      "\n",
      "\n",
      "\n",
      "\n",
      "~Gives Tony a party hat and party favour~ Well, it's done now, and I daresay the next edition will not be too late to continue discussing these elements of SP's impact. This is a nice milestone, so I say, for the moment anyway, celebrate what The Signpost has gotten right over the last decade and save the rest for the water-cooler over the next few days. :) Snow talk 03:49, 23 January 2015 (UTC)\n",
      "\n",
      "\n",
      "\n",
      "\n",
      "\n",
      "\n",
      "\n",
      "\n",
      "\n",
      "\n",
      "\n",
      "\n",
      "\n",
      "\n",
      "\n",
      "\n",
      "\n",
      "\n",
      "What do you think of The Signpost? Share your feedback.\n",
      "\n",
      "\n",
      "Home\n",
      "About\n",
      "Archives\n",
      "Newsroom\n",
      "Subscribe\n",
      "Suggestions\n",
      "\n",
      "\n",
      "\n",
      "\n",
      "\n",
      "\n"
     ]
    }
   ],
   "source": [
    "import bs4\n",
    "print(bs4.BeautifulSoup(raw_texts[4000], 'html.parser').get_text())"
   ]
  },
  {
   "cell_type": "code",
   "execution_count": 49,
   "metadata": {
    "collapsed": false
   },
   "outputs": [
    {
     "name": "stdout",
     "output_type": "stream",
     "text": [
      "\n"
     ]
    }
   ],
   "source": [
    "import bs4\n",
    "raw_stripped_texts = [bs4.BeautifulSoup(t, 'html.parser').get_text() for t in tqdm_notebook(raw_texts)]"
   ]
  },
  {
   "cell_type": "code",
   "execution_count": 55,
   "metadata": {
    "collapsed": false
   },
   "outputs": [],
   "source": [
    "data = [{'article': a, 'text': t} for a, t in zip(articles, raw_stripped_texts)]"
   ]
  },
  {
   "cell_type": "code",
   "execution_count": 63,
   "metadata": {
    "collapsed": false
   },
   "outputs": [],
   "source": [
    "import json\n",
    "\n",
    "with open('../data/raw_texts.json', 'w') as outfile:\n",
    "    json.dump(data, outfile)"
   ]
  }
 ],
 "metadata": {
  "anaconda-cloud": {},
  "kernelspec": {
   "display_name": "Python [conda env:signpost-tags]",
   "language": "python",
   "name": "conda-env-signpost-tags-py"
  },
  "language_info": {
   "codemirror_mode": {
    "name": "ipython",
    "version": 3
   },
   "file_extension": ".py",
   "mimetype": "text/x-python",
   "name": "python",
   "nbconvert_exporter": "python",
   "pygments_lexer": "ipython3",
   "version": "3.5.2"
  },
  "widgets": {
   "state": {
    "5c8386dbd81343b9871969b2e8715fd1": {
     "views": [
      {
       "cell_index": 9
      }
     ]
    },
    "8d7c6a1540f64360a6c301fa03e318f1": {
     "views": [
      {
       "cell_index": 11
      }
     ]
    }
   },
   "version": "1.2.0"
  }
 },
 "nbformat": 4,
 "nbformat_minor": 1
}
