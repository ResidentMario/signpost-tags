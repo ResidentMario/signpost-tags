{
 "cells": [
  {
   "cell_type": "markdown",
   "metadata": {},
   "source": [
    "Did I need to do this?"
   ]
  },
  {
   "cell_type": "code",
   "execution_count": 3,
   "metadata": {
    "collapsed": true
   },
   "outputs": [],
   "source": [
    "from nltk.corpus.reader.plaintext import PlaintextCorpusReader"
   ]
  },
  {
   "cell_type": "code",
   "execution_count": 8,
   "metadata": {
    "collapsed": false,
    "scrolled": true
   },
   "outputs": [],
   "source": [
    "import json\n",
    "\n",
    "with open(\"/Users/Honors/Desktop/signpost-tags/data/final_texts.json\", \"r\") as f1:\n",
    "    with open(\"/Users/Honors/Desktop/signpost-tags/data/signpost_corpus.txt\", \"w\") as f2:\n",
    "        f2.write(\"\\n\\n\".join([\"\\n\".join(block['text']) for block in json.loads(f1.read())]))"
   ]
  },
  {
   "cell_type": "code",
   "execution_count": 15,
   "metadata": {
    "collapsed": true
   },
   "outputs": [],
   "source": [
    "import nltk\n",
    "from nltk.corpus.reader.plaintext import PlaintextCorpusReader\n",
    "import io\n",
    "\n",
    "corpus = PlaintextCorpusReader('/Users/Honors/Desktop/signpost-tags/data/', '.*')"
   ]
  },
  {
   "cell_type": "markdown",
   "metadata": {},
   "source": [
    "# NLP on The Wikipedia Signpost, Part 1"
   ]
  },
  {
   "cell_type": "code",
   "execution_count": 16,
   "metadata": {
    "collapsed": false
   },
   "outputs": [],
   "source": [
    "with open(\"/Users/Honors/Desktop/signpost-tags/data/signpost_corpus.txt\", \"r\") as f:\n",
    "    signpost = nltk.Text(nltk.word_tokenize(f.read()))"
   ]
  },
  {
   "cell_type": "markdown",
   "metadata": {},
   "source": [
    "Find context around words:"
   ]
  },
  {
   "cell_type": "code",
   "execution_count": 19,
   "metadata": {
    "collapsed": false
   },
   "outputs": [
    {
     "name": "stdout",
     "output_type": "stream",
     "text": [
      "Displaying 25 of 2948 matches:\n",
      " an incredible resource that can help WMF and my feeling is that their raw ener\n",
      "can always be better utilized . While WMF has some financial resources for a mi\n",
      "ividuals and other entities donate to WMF because they believe in Wikipedia and\n",
      "een a plus . What is incredible about WMF is that we can all communicate with e\n",
      "eeds of the many communities that the WMF serves . What do you think of the Wik\n",
      "n , what would you change ? Generally WMF has been extremely successful in fulf\n",
      "ventually it might be a good idea for WMF to have a permanent home ( and not ju\n",
      " place . I think it 's very important WMF evolves its linguistic policy so that\n",
      "ns . So IMHO the current main task of WMF towards equality of communities is ( \n",
      "ions of the staff and the community . WMF must be who will support innovative i\n",
      "e community . Without our community , WMF would be called Numedia Foundation : \n",
      "e reasons for my resignation from the WMF office team . I plan on remaining an \n",
      "een , even before I began working for WMF . To ensure that there are no misunde\n",
      "r 19 and 20 , organised by the French WMF chapter . Some users from the English\n",
      "0 ( 58.82 % ) Board : 248 ( 48.63 % ) WMF reps : 248 ( 48.63 % ) Wiki individua\n",
      "services does n't really suggest that WMF underallocates towards core service d\n",
      "everything beyond hosting . 2 ) Build WMF into a mission-driven non-profit that\n",
      "terested/willing joining the board of WMF ( as appointed or as elected ) , and \n",
      "dings over it , as seen here . As the WMF and the community has n't taken actio\n",
      "diaWiki ( technical ) and liason with WMF ( policy ) in order to provide an opt\n",
      "r was first reported to have sued the WMF ( among others ) in March 2007 , but \n",
      "mmunications Decency Act protects the WMF from liability , as an `` interactive\n",
      "rols published content ( although the WMF is one of many users of the service )\n",
      "ns of the Wikipedia community and the WMF regarding treatment of material invol\n",
      "with respect to the relationship with WMF , some with the closer to home UK ban\n"
     ]
    }
   ],
   "source": [
    "signpost.concordance(\"WMF\")"
   ]
  },
  {
   "cell_type": "markdown",
   "metadata": {},
   "source": [
    "Men versus women in the *Signpost*."
   ]
  },
  {
   "cell_type": "code",
   "execution_count": 23,
   "metadata": {
    "collapsed": false
   },
   "outputs": [
    {
     "name": "stdout",
     "output_type": "stream",
     "text": [
      "disabled; disabled; disabled; ); ); ); Jewish; single; dead; young;\n",
      "young; young; young; bad; sleeping; complicated; religious;\n",
      "Vietnamese; young; young; masked; ``; single; polished; young; young;\n",
      "fascinating; young; military; wealthy; poor; dead; thirty-year-old;\n",
      "naked; wealthy; ]; black; white\n"
     ]
    }
   ],
   "source": [
    "import re\n",
    "signpost.findall(r\"<a> (<.*>) <man>\")"
   ]
  },
  {
   "cell_type": "code",
   "execution_count": 24,
   "metadata": {
    "collapsed": false
   },
   "outputs": [
    {
     "name": "stdout",
     "output_type": "stream",
     "text": [
      "Korean; battered; business; pig-faced; young; Maasai; striking;\n",
      "modern; married; Puritan; prominent; trans; good; Cherokee; multi-\n",
      "talented; black; naked; young; young; naked; young; humanoid;\n",
      "Pakistani; young; pregnant; half-naked; young; young; young; trans;\n",
      "trans; trans; transgender; peasant; trans; half-naked; young; near-\n",
      "naked; remarkable; near-nude; Sudanese; captive; white\n"
     ]
    }
   ],
   "source": [
    "signpost.findall(r\"<a> (<.*>) <woman>\")"
   ]
  },
  {
   "cell_type": "markdown",
   "metadata": {},
   "source": [
    "So a lot of the work done in NLP comes down to \"find the right regex for the thing\"."
   ]
  },
  {
   "cell_type": "code",
   "execution_count": 28,
   "metadata": {
    "collapsed": false
   },
   "outputs": [
    {
     "name": "stdout",
     "output_type": "stream",
     "text": [
      "real; WP; Wikipedia; network; semi-active; Wikipedia; trusted; fifth;\n",
      "Wikipedia; Wikipedia; human; former; fellow; Wikinews; Wikipedia;\n",
      "system; system; dire; former; former; single; 13-year-old; new; new;\n",
      "new; new; sports; new; wiki; system; new; volunteer; system; site;\n",
      "volunteer; Swiss; Wikipedia; local; Wikipedia; veteran; Wikipedia;\n",
      "Wikipedia; Wikipedia; Wikipedia; distinguished; Wikipedia; Wikipedia;\n",
      "Wikipedia; Wikipedia; trusted; Wikipedia; Wikipedia; Wikipedia;\n",
      "volunteer; volunteer\n"
     ]
    }
   ],
   "source": [
    "signpost.findall(r\"<a> (<.*>) <administrator>\")"
   ]
  },
  {
   "cell_type": "code",
   "execution_count": 35,
   "metadata": {
    "collapsed": false
   },
   "outputs": [
    {
     "name": "stdout",
     "output_type": "stream",
     "text": [
      "``; Norwegian; Nynorsk; Bokmål-only; third; ``; popular; forthcoming;\n",
      "free; good; test; new; Cantonese; walking; Swiss; spoken; big;\n",
      "Japanese; modified; vandalized; new; certain; German; random;\n",
      "particular; given; vandalised; page; curious; Model; typical; typical;\n",
      "worthwhile; ``; b; given; given; poor; Neuroscience; recent;\n",
      "celebrity’s; perception; frequent; full; single; judge; Kiswahili;\n",
      "Kiswahili; local; ``; helpful; casual; new; special; new; ``; typical;\n",
      "popular; Persian; frequent; ``; ``; ``; single; ``; ``; ``; possible;\n",
      "fundamental; long-term; longtime; given; diversity-minded; ``;\n",
      "simulated; new; new; single; Hindi; specific; ``; simple;\n",
      "corresponding; young; 28-page; self-professed; frequent; related;\n",
      "casual; given; given; regular; good; Culinary; new; particular; whole;\n",
      "native; small; better; small; given; subject—then; brand’s; big; two-\n",
      "page; Dyslexic-friendly; Wikipediocracy; printed; high; permanent;\n",
      "Persian; substantial; professional; loyal; free; ``; larger; new; ``;\n",
      "real; dozen; longterm; dedicated; problem; fantastic; prominent;\n",
      "senior; mockup; new; Greek; steward—discusses; Polish; questionable;\n",
      "special; fallacious; top-level; free-standing; German; large; million;\n",
      "free; ``; ``; real-world; perennial; well-regarded; knowledgeable;\n",
      "banned; borderline; top; long-time; former; former; high-quality;\n",
      "large; subsequent; ``; typical; better; politician’s; particular;\n",
      "Belarusan; corrupt; pseudonymous; new; ``; public; way; fake; new;\n",
      "person’s; factory-installed; third; Tulu\n"
     ]
    }
   ],
   "source": [
    "signpost.findall(r\"<a> (<.*>) <Wikipedia>\")"
   ]
  },
  {
   "cell_type": "code",
   "execution_count": 33,
   "metadata": {
    "collapsed": false
   },
   "outputs": [],
   "source": [
    "with open(\"/Users/Honors/Desktop/signpost-tags/data/signpost_corpus.txt\", \"r\") as f:\n",
    "    signpost_sentences = nltk.sent_tokenize(f.read())"
   ]
  },
  {
   "cell_type": "code",
   "execution_count": 34,
   "metadata": {
    "collapsed": false
   },
   "outputs": [
    {
     "data": {
      "text/plain": [
       "['Advocate KeithTyler responded that he thought this might exceed the role and function of the association.',\n",
       " \"It appears that further discussion of these issues will have to wait for the AMA's meeting, but it is not yet certain when that will be held.\",\n",
       " 'This will be a regular column dealing with cases before the Arbitration Committee and other matters going through the dispute resolution system.',\n",
       " 'Hopefully, it will not get too long to write.',\n",
       " '(Yes, the acronym is intentional, with tongue planted firmly in cheek.)',\n",
       " 'New Arbitrators finish off more cases\\nThe recently elected crew of new Arbitrators continued to make progress toward reaching decisions on their existing cases.',\n",
       " 'Within a couple of days of beginning their terms, they had already closed a couple of obviously stale cases, and concluded a one-year ban on Lir.',\n",
       " 'Last week, the Arbitration Committee closed two additional cases, prohibiting original research and edit warring over the Phil Gingrey article, and banning Alberuni for over a year.',\n",
       " 'The Arbitrators also moved toward issuing rulings in most of the other cases currently on the docket.',\n",
       " 'In their oldest case, however, involving 172 and dating back to last August, things actually moved backwards when former Arbitrator Martin Harper withdrew his votes because he is no longer participating in the process.',\n",
       " 'This left it unclear how long it would take to issue a ruling.',\n",
       " 'Cases with fresher and well-organized evidence seemed easier to deal with, as reflected in the Alberuni case.',\n",
       " 'Alberuni was brought to Arbitration after a long period of stirring up matters on the Arab-Israeli conflict pages and exacerbating the tension among editors there.',\n",
       " 'In his activity, Alberuni engaged in numerous personal attacks and created a number of sockpuppets for this purpose (sockpuppets that could be identified have already been banned).',\n",
       " \"In Alberuni's case, the Arbitrators voted strongly in favor of a one-year ban for personal attacks, plus an additional month for violations of the three-revert rule.\",\n",
       " 'After cleaning up loose ends in the ruling, the Arbitration Committee closed the case officially on Monday and the ban was promptly imposed.',\n",
       " 'By the end of the week, the Arbitrators had also managed to begin making proposals and voting on them for all existing cases, even on their newest case involving Rienzo, which was only just accepted on January 1.',\n",
       " 'One additional new request was accepted and moved into the evidence presentation stage (see below).',\n",
       " 'More POV templates spring up\\nQuite possibly the most active Arbitration case last week did not involve deliberation and voting by the Arbitrators, however.',\n",
       " 'That would be the case of CheeseDreams, which prompted additional controversy when she returned to active editing.',\n",
       " 'CheeseDreams, who has a history of getting into conflict over articles related to religion, particularly Christianity, had been given a temporary injunction against editing articles related to Christianity.',\n",
       " 'In the course of these conflicts, CheeseDreams created several sockpuppets, generally taking the same username with a slight spelling variation (such as Cheesedreams).',\n",
       " 'No evidence has been raised that the sockpuppets were misused, however.',\n",
       " \"Whatever the account involved, until last Wednesday CheeseDreams hadn't edited since before Christmas, so the issue seemed to be dormant.\",\n",
       " 'But then she returned and created two new templates, dispute tags indicating that the article was skewed towards \"Bible POV,\" which she then proceeded to add to a number of articles related to the Old Testament or Tanakh.',\n",
       " 'IZAK promptly seized upon these edits as violations of the preliminary injunction and listed the templates at Templates for deletion, also requesting that a block be implemented.',\n",
       " 'IZAK also removed the tags wherever they had been posted.',\n",
       " 'Nobody had given CheeseDreams notice of the injunction, however, until after these edits (of course, her use of sockpuppets compounds this problem by making it hard to know the right place to give such a notice).',\n",
       " \"The notice was finally given by Arbitrator mav Thursday on CheeseDreams' talk page after the controversy over the templates was raised.\",\n",
       " \"However, Ta bu shi da yu, another participant in this Arbitration case, acted on IZAK's complaint and imposed a 24-hour block.\",\n",
       " \"This had to be reversed because the edits preceded the notice of the injunction, and Ta bu shi da yu posted an apology on CheeseDreams' talk page.\",\n",
       " 'The fate of the templates remains to be decided, but they too had a dizzying career.',\n",
       " 'After first being listed on Templates for deletion by IZAK, they were speedily deleted based on the apparent violation of the injunction.',\n",
       " 'This led to their being nominated on votes for undeletion, where they were promptly undeleted because of the irregularities in the speedy deletion.',\n",
       " 'At last check, the discussion had returned to templates for deletion again.',\n",
       " 'Speed does not equal unanimity\\nThe Arbitrators also got an opportunity to demonstrate how quickly they would respond to new requests when dab made a Request for Arbitration involving Antifinnugor.',\n",
       " 'The response was in fact quite swift, as seven Arbitrators responded to the request within 24 hours.',\n",
       " 'But even this was not enough to get a decision on whether or not to accept the case.',\n",
       " 'While three of the necessary four Arbitrators had voted to accept, three others abstained and one voted to reject it, and their comments indicated that they still thought formal mediation could help the situation.',\n",
       " \"Dab's response was that attempts at informal mediation had been ignored, and the Arbitrators did eventually decide to accept the case.\",\n",
       " \"Dab's was the only new request accepted last week, so the net effect of this activity is that the Arbitrators have considerably lessened their caseload.\",\n",
       " 'The fallout from Larry Sanger\\'s New Year\\'s Eve Kuro5hin article criticizing Wikipedia for its \"anti-elitism\" trickled into the media last week, which took up the ongoing debate over Wikipedia credibility.',\n",
       " 'Simultaneously, discussions on the Many-to-Many blog over this issue stimulated internal debate there as well as informing the mainstream press.',\n",
       " \"Media topics changing\\nAs the news cycle begins to shift away from coverage of the 2004 Indian Ocean earthquake (including widespread discussion of Wikipedia's article on the subject), media attention on Wikipedia has also shifted, and two publications carried extensive articles that return to the subject of weighing Wikipedia's advantages against credibility concerns.\",\n",
       " 'In the Financial Times, John Gapper wrote an article called \"A new entrant to the knowledge market\", which, as suggested by its title, introduces Wikipedia as a new competitor to Encarta and the Encyclopædia Britannica.',\n",
       " 'Meanwhile, The Observer published John Naughton\\'s column entitled \"Why encyclopaedic row speaks volumes about the old guard\", dealing with the reactions of established reference works like Britannica to Wikipedia\\'s success.',\n",
       " \"Although it provides an introduction to Wikipedia, Gapper's article is not merely a glowing review.\",\n",
       " 'Not surprisingly, given his audience, Gapper presents the competition between encyclopedias in economic terms.',\n",
       " 'In his analysis, \"The combination of the internet and Wiki software is a disruptive technology [disruptive to existing competitors, that is]: it allows Wikipedia\\'s enthusiasts to produce something that is extremely cheap (free, in fact) and good enough to satisfy many people.\"',\n",
       " \"In his overview, Gapper presents a condensed version of the debate between Wikipedia's founders, Jimmy Wales and Sanger, over the weight, or lack thereof, given to academics editing in their field of expertise.\",\n",
       " '(Kuro5hin founder Rusty Foster\\'s observation on this debate: \"Public bickering is the lifeblood of internet-based projects.\")',\n",
       " 'In essence, Gapper assumes the argument of Sanger and others, that Wikipedia does in fact need to \"bridge the gap\" with the traditional world of academic expertise and peer review.',\n",
       " 'At the same time, he comments on the trickiness of doing this without losing the productive nature of the Wikipedia community.',\n",
       " 'Gapper also notes that in spite of the Neutral point of view policy, Wikipedia does have biases in its material resulting from the views of its \"core group\".',\n",
       " 'His example is the McDonald\\'s article, which he says \"devotes a lot of space to criticisms by environmental and social activists but says little about how the company originally succeeded.\"',\n",
       " \"(While there has been renewed activity on the article since Gapper's comment was first published on the web, his point hasn't really been addressed yet.)\",\n",
       " 'Still, Gapper concludes that Wikipedia is \"surprisingly good\", and says that if used carefully, \"it provides a lot of information on a wide variety of topics.\"',\n",
       " 'If the Wikipedia community is able to compromise with academia, he suggests, it could seriously threaten the future of existing published reference works.',\n",
       " \"Observer tracks recent media discussion\\nNaughton, while he does not mention Sanger or Wales directly (perhaps preferring not to undermine his portrayal of Wikipedia in terms focusing on group dynamics), does discuss the article by former Encyclopædia Britannica editor Robert McHenry that was probably the most extensive published critique of Wikipedia before Sanger's article.\",\n",
       " 'Naughton also quotes directly from comments by Clay Shirky (see below) that were written specifically in response to the Sanger article.',\n",
       " \"In addition to analyzing the overall debate over the merits of Wikipedia, Naughton can be seen tracing some of Wikipedia's recent press coverage elsewhere.\",\n",
       " 'Besides the McHenry article and other previously published quotes from Britannica editors, he mentions the debates over and protection of the George W. Bush article, discussed in several media outlets, and also recaps his own initial article about Wikipedia.',\n",
       " 'He also mentions \"a well-known crackpot\" writing an article about himself, apparently referring to Sollog.',\n",
       " 'Naughton consistently evaluates Wikipedia\\'s product as being of good quality, calling even these disputed articles \"informative\" and \"admirably detached\".',\n",
       " 'Dismissing the critiques of Wikipedia as having a \"whiff of hysteria\", he sums up Wikipedia as \"an exceedingly useful online reference work often consulted by this columnist and countless others.\"',\n",
       " 'Going one-on-one at Many-to-Many\\nOn the Many-to-Many blog, NYU professor Clay Shirky gave an initial response last Monday to the Sanger article after the news reached Slashdot.',\n",
       " 'While conceding that Sanger was partially right in his criticisms, Shirky said Wikipedia was being given \"too little credit\" for its efforts in dealing with the problems Sanger complained about.',\n",
       " 'He also argued that while Wikipedia resembles a traditional encyclopedia, its critics fail to recognize that ultimately it has a different nature, much like an automobile differs from a horseless carriage.',\n",
       " 'The next day his colleague on that blog, danah boyd, took the other side of the debate.',\n",
       " 'Echoing McHenry\\'s observations about Alexander Hamilton being \"edited into mediocrity\", boyd suggested the quality of collaborative work was overrated: \"Wikipedia appears to be a legitimate authority on a vast array of topics for which only one individual has contributed material.\"',\n",
       " 'The debate continued as Shirky and boyd exchanged further responses.',\n",
       " 'Later on, Shirky posted a Wikipedia screenshot[1] containing the output of a script he had written, which showed below the title of the article how many times it had been edited, by how many users, and the dates of the first and most recent edits.',\n",
       " 'He suggested that this would give at least some idea of how trustworthy any given article is, and hoped somebody would implement it as a setting on Wikipedia.',\n",
       " 'Whether that happens, we shall have to wait and see.',\n",
       " 'September 11 article shot down over stylistic issues\\nSeptember 11, 2001 attacks, an article with an important position in the history of Wikipedia itself, was nominated for featured article status last week.',\n",
       " \"However, the nomination appeared doomed to fail, as discussion of the article's quality degenerated into an argument over whether the title required another comma.\",\n",
       " 'The \"missing\" comma after \"2001\"—already debated extensively on the talk page, with an entire talk page archive dedicated entirely to the issue—continues to plague the September 11 article even after a truce on more emotional issues, like the use of the word \"terrorist\".',\n",
       " 'Key figures in this debate include Maurreen and jguk.',\n",
       " 'Maurreen has consistently supported adding the comma, citing a variety of professional style guides for the rule that the year should be followed by a comma or other punctuation mark when a date is written out as day, month, and year.',\n",
       " 'Jguk and others argued that this custom does not apply in this instance, based on widespread usage with the comma missing, particularly in international English usage.',\n",
       " 'They also pointed out that the guidelines cited by Maurreen do not address usage when a date is used as an adjective, as it is in this particular situation.',\n",
       " 'The discussion and two polls on the talk page in October failed to reach consensus.',\n",
       " 'Others suggested avoiding the issue entirely by moving the article to \"Attacks of September 11, 2001\" or a similar title.',\n",
       " 'How far apart do the waves need to be?',\n",
       " 'Meanwhile, another article that has gotten Wikipedia a lot of press based on similar circumstances, 2004 Indian Ocean earthquake, had its featured article nomination overwhelmingly rejected.',\n",
       " \"It seems the article (which was still getting 68 edits in a day as of last Sunday) is not stable enough for everyone's tastes.\",\n",
       " \"Some people also didn't want it to end up as the featured article on the Main Page while it was still being showcased as part of the news section.\",\n",
       " 'However, brilliant prose was being recognized in areas besides \"major disasters of special significance to Wikipedia\".',\n",
       " 'Articles that did receive acclamation as featured articles this past week included Witold Pilecki, Liberal Party (Utah), Chemical warfare, Ryanair, and Craters of the Moon National Monument and Preserve.',\n",
       " \"In addition to the featured articles, here's last week's newly-made featured pictures:\\nKiritimati Island\\nAustralian Garden Orb Weaver Spider\\nAlaska Wild Berries\\nBuddhabrot - deeply iterated\\n\\nThe name, The Wikipedia Signpost, was chosen to be like the name of a newspaper, since a newspaper is what I would call this project.\"]"
      ]
     },
     "execution_count": 34,
     "metadata": {},
     "output_type": "execute_result"
    }
   ],
   "source": [
    "signpost_sentences[10:100]"
   ]
  },
  {
   "cell_type": "markdown",
   "metadata": {},
   "source": [
    "This uses part of speech tagging to find words which appear in similar places ($A W B$ versus $A W' B$)."
   ]
  },
  {
   "cell_type": "code",
   "execution_count": 36,
   "metadata": {
    "collapsed": false
   },
   "outputs": [
    {
     "name": "stdout",
     "output_type": "stream",
     "text": [
      "the it and a this that articles which in them new its all wikimedia to\n",
      "their what other one our\n"
     ]
    }
   ],
   "source": [
    "signpost.similar(\"Wikipedia\")"
   ]
  },
  {
   "cell_type": "code",
   "execution_count": 37,
   "metadata": {
    "collapsed": false
   },
   "outputs": [
    {
     "name": "stdout",
     "output_type": "stream",
     "text": [
      "article editor and admin editors the articles wikipedia image\n",
      "administrators account issue user in page project example encyclopedia\n",
      "editing content\n"
     ]
    }
   ],
   "source": [
    "signpost.similar(\"administrator\")"
   ]
  },
  {
   "cell_type": "markdown",
   "metadata": {},
   "source": [
    "You can part-of-speech tokenize inputted text:"
   ]
  },
  {
   "cell_type": "code",
   "execution_count": 39,
   "metadata": {
    "collapsed": false
   },
   "outputs": [
    {
     "name": "stdout",
     "output_type": "stream",
     "text": [
      "[nltk_data] Downloading package averaged_perceptron_tagger to\n",
      "[nltk_data]     /Users/Honors/nltk_data...\n",
      "[nltk_data]   Unzipping taggers/averaged_perceptron_tagger.zip.\n"
     ]
    },
    {
     "data": {
      "text/plain": [
       "True"
      ]
     },
     "execution_count": 39,
     "metadata": {},
     "output_type": "execute_result"
    }
   ],
   "source": [
    "nltk.download('averaged_perceptron_tagger')"
   ]
  },
  {
   "cell_type": "code",
   "execution_count": 44,
   "metadata": {
    "collapsed": false
   },
   "outputs": [
    {
     "data": {
      "text/plain": [
       "[[('The', 'DT'),\n",
       "  ('Association', 'NNP'),\n",
       "  ('of', 'IN'),\n",
       "  ('Members', 'NNP'),\n",
       "  (\"'\", 'POS'),\n",
       "  ('Advocates', 'NNS'),\n",
       "  (',', ','),\n",
       "  ('an', 'DT'),\n",
       "  ('independent', 'JJ'),\n",
       "  ('association', 'NN'),\n",
       "  ('involved', 'VBN'),\n",
       "  ('in', 'IN'),\n",
       "  ('the', 'DT'),\n",
       "  ('dispute', 'NN'),\n",
       "  ('resolution', 'NN'),\n",
       "  ('process', 'NN'),\n",
       "  (',', ','),\n",
       "  ('has', 'VBZ'),\n",
       "  ('started', 'VBN'),\n",
       "  ('discussions', 'NNS'),\n",
       "  ('on', 'IN'),\n",
       "  ('having', 'VBG'),\n",
       "  ('a', 'DT'),\n",
       "  ('new', 'JJ'),\n",
       "  ('election', 'NN'),\n",
       "  ('for', 'IN'),\n",
       "  ('the', 'DT'),\n",
       "  ('position', 'NN'),\n",
       "  ('of', 'IN'),\n",
       "  ('AMA', 'NNP'),\n",
       "  ('Coordinator', 'NNP'),\n",
       "  ('.', '.')],\n",
       " [('Since', 'IN'),\n",
       "  ('the', 'DT'),\n",
       "  ('initial', 'JJ'),\n",
       "  ('election', 'NN'),\n",
       "  ('of', 'IN'),\n",
       "  ('Alex756', 'NNP'),\n",
       "  ('to', 'TO'),\n",
       "  ('this', 'DT'),\n",
       "  ('position', 'NN'),\n",
       "  ('last', 'JJ'),\n",
       "  ('April', 'NNP'),\n",
       "  ('was', 'VBD'),\n",
       "  ('for', 'IN'),\n",
       "  ('a', 'DT'),\n",
       "  ('term', 'NN'),\n",
       "  ('of', 'IN'),\n",
       "  ('six', 'CD'),\n",
       "  ('months', 'NNS'),\n",
       "  (',', ','),\n",
       "  ('it', 'PRP'),\n",
       "  ('appears', 'VBZ'),\n",
       "  ('the', 'DT'),\n",
       "  ('new', 'JJ'),\n",
       "  ('election', 'NN'),\n",
       "  ('is', 'VBZ'),\n",
       "  ('already', 'RB'),\n",
       "  ('several', 'JJ'),\n",
       "  ('months', 'NNS'),\n",
       "  ('overdue', 'JJ'),\n",
       "  ('.', '.')],\n",
       " [('A', 'DT'),\n",
       "  ('poll', 'NN'),\n",
       "  ('on', 'IN'),\n",
       "  ('the', 'DT'),\n",
       "  ('question', 'NN'),\n",
       "  ('of', 'IN'),\n",
       "  ('having', 'VBG'),\n",
       "  ('new', 'JJ'),\n",
       "  ('elections', 'NNS'),\n",
       "  ('was', 'VBD'),\n",
       "  ('running', 'VBG'),\n",
       "  ('strongly', 'RB'),\n",
       "  ('in', 'IN'),\n",
       "  ('favor', 'NN'),\n",
       "  (',', ','),\n",
       "  ('but', 'CC'),\n",
       "  ('general', 'JJ'),\n",
       "  ('discussion', 'NN'),\n",
       "  ('among', 'IN'),\n",
       "  ('the', 'DT'),\n",
       "  ('members', 'NNS'),\n",
       "  ('was', 'VBD'),\n",
       "  ('a', 'DT'),\n",
       "  ('little', 'RB'),\n",
       "  ('more', 'RBR'),\n",
       "  ('uncertain', 'JJ'),\n",
       "  ('how', 'WRB'),\n",
       "  ('to', 'TO'),\n",
       "  ('proceed', 'VB'),\n",
       "  ('.', '.')],\n",
       " [('Voicing', 'VBG'),\n",
       "  ('an', 'DT'),\n",
       "  ('outside', 'JJ'),\n",
       "  ('opinion', 'NN'),\n",
       "  ('on', 'IN'),\n",
       "  ('the', 'DT'),\n",
       "  ('AMA', 'NNP'),\n",
       "  (',', ','),\n",
       "  ('Ambi', 'NNP'),\n",
       "  ('said', 'VBD'),\n",
       "  ('she', 'PRP'),\n",
       "  ('thought', 'VBD'),\n",
       "  ('it', 'PRP'),\n",
       "  ('was', 'VBD'),\n",
       "  ('``', '``'),\n",
       "  ('completely', 'RB'),\n",
       "  ('dead', 'JJ'),\n",
       "  (\"''\", \"''\"),\n",
       "  ('and', 'CC'),\n",
       "  ('had', 'VBD'),\n",
       "  (\"n't\", 'RB'),\n",
       "  ('seen', 'VBN'),\n",
       "  ('it', 'PRP'),\n",
       "  ('in', 'IN'),\n",
       "  ('action', 'NN'),\n",
       "  ('anywhere', 'RB'),\n",
       "  ('.', '.')],\n",
       " [('Some', 'DT'),\n",
       "  ('advocates', 'NNS'),\n",
       "  ('responded', 'VBD'),\n",
       "  ('that', 'IN'),\n",
       "  ('their', 'PRP$'),\n",
       "  ('work', 'NN'),\n",
       "  ('had', 'VBD'),\n",
       "  (\"n't\", 'RB'),\n",
       "  ('been', 'VBN'),\n",
       "  ('done', 'VBN'),\n",
       "  ('in', 'IN'),\n",
       "  ('the', 'DT'),\n",
       "  ('later', 'JJ'),\n",
       "  ('stages', 'NNS'),\n",
       "  ('of', 'IN'),\n",
       "  ('the', 'DT'),\n",
       "  ('dispute', 'NN'),\n",
       "  ('resolution', 'NN'),\n",
       "  ('system', 'NN'),\n",
       "  (',', ','),\n",
       "  ('noting', 'VBG'),\n",
       "  ('that', 'IN'),\n",
       "  ('they', 'PRP'),\n",
       "  ('seemed', 'VBD'),\n",
       "  ('mostly', 'RB'),\n",
       "  ('to', 'TO'),\n",
       "  ('be', 'VB'),\n",
       "  ('helping', 'VBG'),\n",
       "  ('newcomers', 'NNS'),\n",
       "  ('who', 'WP'),\n",
       "  ('were', 'VBD'),\n",
       "  (\"n't\", 'RB'),\n",
       "  ('familiar', 'JJ'),\n",
       "  ('with', 'IN'),\n",
       "  ('Wikipedia', 'NNP'),\n",
       "  ('procedures', 'NNS'),\n",
       "  ('.', '.')],\n",
       " [('Since', 'IN'),\n",
       "  ('this', 'DT'),\n",
       "  ('was', 'VBD'),\n",
       "  ('rather', 'RB'),\n",
       "  ('different', 'JJ'),\n",
       "  ('from', 'IN'),\n",
       "  ('the', 'DT'),\n",
       "  ('role', 'NN'),\n",
       "  ('the', 'DT'),\n",
       "  ('AMA', 'NNP'),\n",
       "  ('originally', 'RB'),\n",
       "  ('conceived', 'VBD'),\n",
       "  ('for', 'IN'),\n",
       "  ('itself', 'PRP'),\n",
       "  ('of', 'IN'),\n",
       "  ('working', 'VBG'),\n",
       "  ('primarily', 'RB'),\n",
       "  ('in', 'IN'),\n",
       "  ('mediation', 'NN'),\n",
       "  ('and', 'CC'),\n",
       "  ('arbitration', 'NN'),\n",
       "  (',', ','),\n",
       "  ('it', 'PRP'),\n",
       "  ('opened', 'VBD'),\n",
       "  ('the', 'DT'),\n",
       "  ('question', 'NN'),\n",
       "  ('of', 'IN'),\n",
       "  ('rethinking', 'VBG'),\n",
       "  ('the', 'DT'),\n",
       "  ('AMA', 'NNP'),\n",
       "  (\"'s\", 'POS'),\n",
       "  ('basic', 'JJ'),\n",
       "  ('focus', 'NN'),\n",
       "  ('entirely', 'RB'),\n",
       "  ('.', '.')],\n",
       " [('To', 'TO'),\n",
       "  ('figure', 'VB'),\n",
       "  ('these', 'DT'),\n",
       "  ('issues', 'NNS'),\n",
       "  ('out', 'RP'),\n",
       "  (',', ','),\n",
       "  ('Alex756', 'NNP'),\n",
       "  ('proposed', 'VBD'),\n",
       "  ('that', 'IN'),\n",
       "  ('the', 'DT'),\n",
       "  ('AMA', 'NNP'),\n",
       "  ('have', 'VBP'),\n",
       "  ('a', 'DT'),\n",
       "  ('meeting', 'NN'),\n",
       "  ('for', 'IN'),\n",
       "  ('all', 'DT'),\n",
       "  ('advocates', 'NNS'),\n",
       "  ('.', '.')],\n",
       " [('The', 'DT'),\n",
       "  ('meeting', 'NN'),\n",
       "  (',', ','),\n",
       "  ('tentatively', 'RB'),\n",
       "  ('to', 'TO'),\n",
       "  ('be', 'VB'),\n",
       "  ('held', 'VBN'),\n",
       "  ('via', 'IN'),\n",
       "  ('IRC', 'NNP'),\n",
       "  (',', ','),\n",
       "  ('would', 'MD'),\n",
       "  ('address', 'VB'),\n",
       "  ('matters', 'NNS'),\n",
       "  ('such', 'JJ'),\n",
       "  ('as', 'IN'),\n",
       "  ('choosing', 'VBG'),\n",
       "  ('officers', 'NNS'),\n",
       "  (',', ','),\n",
       "  ('drafting', 'VBG'),\n",
       "  ('a', 'DT'),\n",
       "  ('charter', 'NN'),\n",
       "  (',', ','),\n",
       "  ('and', 'CC'),\n",
       "  ('how', 'WRB'),\n",
       "  ('to', 'TO'),\n",
       "  ('get', 'VB'),\n",
       "  ('the', 'DT'),\n",
       "  ('organization', 'NN'),\n",
       "  ('more', 'RBR'),\n",
       "  ('active', 'JJ'),\n",
       "  ('and', 'CC'),\n",
       "  ('effective', 'JJ'),\n",
       "  ('in', 'IN'),\n",
       "  ('Wikipedia', 'NNP'),\n",
       "  ('.', '.')],\n",
       " [('Given', 'VBN'),\n",
       "  ('the', 'DT'),\n",
       "  ('uncertain', 'JJ'),\n",
       "  ('state', 'NN'),\n",
       "  ('of', 'IN'),\n",
       "  ('affairs', 'NNS'),\n",
       "  (',', ','),\n",
       "  ('several', 'JJ'),\n",
       "  ('advocates', 'NNS'),\n",
       "  ('expressed', 'VBD'),\n",
       "  ('interest', 'NN'),\n",
       "  ('in', 'IN'),\n",
       "  ('improving', 'VBG'),\n",
       "  ('publicity', 'NN'),\n",
       "  ('for', 'IN'),\n",
       "  ('the', 'DT'),\n",
       "  ('AMA', 'NNP'),\n",
       "  ('as', 'IN'),\n",
       "  ('an', 'DT'),\n",
       "  ('organization', 'NN'),\n",
       "  ('.', '.')],\n",
       " [('Alex756', 'NNP'),\n",
       "  ('suggested', 'VBD'),\n",
       "  ('conducting', 'VBG'),\n",
       "  ('a', 'DT'),\n",
       "  ('study', 'NN'),\n",
       "  ('to', 'TO'),\n",
       "  ('analyze', 'VB'),\n",
       "  ('the', 'DT'),\n",
       "  ('operations', 'NNS'),\n",
       "  ('of', 'IN'),\n",
       "  ('the', 'DT'),\n",
       "  ('Mediation', 'NNP'),\n",
       "  ('and', 'CC'),\n",
       "  ('Arbitration', 'NNP'),\n",
       "  ('Committees', 'NNP'),\n",
       "  ('and', 'CC'),\n",
       "  ('issuing', 'VBG'),\n",
       "  ('a', 'DT'),\n",
       "  ('report', 'NN'),\n",
       "  ('.', '.')]]"
      ]
     },
     "execution_count": 44,
     "metadata": {},
     "output_type": "execute_result"
    }
   ],
   "source": [
    "[nltk.pos_tag(nltk.word_tokenize(s)) for s in signpost_sentences[:10]]"
   ]
  },
  {
   "cell_type": "code",
   "execution_count": 68,
   "metadata": {
    "collapsed": true
   },
   "outputs": [],
   "source": [
    "import numpy as np"
   ]
  },
  {
   "cell_type": "code",
   "execution_count": 69,
   "metadata": {
    "collapsed": false
   },
   "outputs": [
    {
     "name": "stdout",
     "output_type": "stream",
     "text": [
      "CPU times: user 28.8 ms, sys: 2.71 ms, total: 31.5 ms\n",
      "Wall time: 29.6 ms\n"
     ]
    }
   ],
   "source": [
    "%time tag_fd = nltk.FreqDist(tag for (word, tag) in np.array([nltk.pos_tag(nltk.word_tokenize(s)) for s in signpost_sentences[:10]]).flatten()[0])"
   ]
  },
  {
   "cell_type": "code",
   "execution_count": 70,
   "metadata": {
    "collapsed": false
   },
   "outputs": [
    {
     "name": "stdout",
     "output_type": "stream",
     "text": [
      "CPU times: user 275 ms, sys: 25.4 ms, total: 300 ms\n",
      "Wall time: 299 ms\n"
     ]
    }
   ],
   "source": [
    "%time tag_fd = nltk.FreqDist(tag for (word, tag) in np.array([nltk.pos_tag(nltk.word_tokenize(s)) for s in signpost_sentences[:100]]).flatten()[0])"
   ]
  },
  {
   "cell_type": "code",
   "execution_count": 71,
   "metadata": {
    "collapsed": false
   },
   "outputs": [
    {
     "name": "stdout",
     "output_type": "stream",
     "text": [
      "CPU times: user 2.63 s, sys: 62.5 ms, total: 2.69 s\n",
      "Wall time: 2.71 s\n"
     ]
    }
   ],
   "source": [
    "%time tag_fd = nltk.FreqDist(tag for (word, tag) in np.array([nltk.pos_tag(nltk.word_tokenize(s)) for s in signpost_sentences[:1000]]).flatten()[0])"
   ]
  },
  {
   "cell_type": "code",
   "execution_count": 72,
   "metadata": {
    "collapsed": false
   },
   "outputs": [
    {
     "data": {
      "text/plain": [
       "172472"
      ]
     },
     "execution_count": 72,
     "metadata": {},
     "output_type": "execute_result"
    }
   ],
   "source": [
    "len(signpost_sentences)"
   ]
  },
  {
   "cell_type": "code",
   "execution_count": 74,
   "metadata": {
    "collapsed": false
   },
   "outputs": [
    {
     "data": {
      "text/plain": [
       "7.768666666666666"
      ]
     },
     "execution_count": 74,
     "metadata": {},
     "output_type": "execute_result"
    }
   ],
   "source": [
    "(172*2.71)/60"
   ]
  },
  {
   "cell_type": "code",
   "execution_count": 79,
   "metadata": {
    "collapsed": false
   },
   "outputs": [
    {
     "data": {
      "text/plain": [
       "[('NN', 6),\n",
       " ('IN', 5),\n",
       " ('DT', 5),\n",
       " ('NNP', 4),\n",
       " ('JJ', 2),\n",
       " (',', 2),\n",
       " ('NNS', 2),\n",
       " ('VBN', 2),\n",
       " ('.', 1),\n",
       " ('VBG', 1),\n",
       " ('POS', 1),\n",
       " ('VBZ', 1)]"
      ]
     },
     "execution_count": 79,
     "metadata": {},
     "output_type": "execute_result"
    }
   ],
   "source": [
    "tag_fd.most_common()"
   ]
  },
  {
   "cell_type": "code",
   "execution_count": 62,
   "metadata": {
    "collapsed": false
   },
   "outputs": [
    {
     "data": {
      "text/plain": [
       "0.1875"
      ]
     },
     "execution_count": 62,
     "metadata": {},
     "output_type": "execute_result"
    }
   ],
   "source": [
    "tag_fd.freq('NN')"
   ]
  },
  {
   "cell_type": "code",
   "execution_count": 63,
   "metadata": {
    "collapsed": false
   },
   "outputs": [
    {
     "data": {
      "text/plain": [
       "6"
      ]
     },
     "execution_count": 63,
     "metadata": {},
     "output_type": "execute_result"
    }
   ],
   "source": [
    "tag_fd.get('NN')"
   ]
  },
  {
   "cell_type": "code",
   "execution_count": 64,
   "metadata": {
    "collapsed": false
   },
   "outputs": [
    {
     "data": {
      "text/plain": [
       "'NN'"
      ]
     },
     "execution_count": 64,
     "metadata": {},
     "output_type": "execute_result"
    }
   ],
   "source": [
    "tag_fd.max()"
   ]
  },
  {
   "cell_type": "code",
   "execution_count": 66,
   "metadata": {
    "collapsed": false
   },
   "outputs": [
    {
     "data": {
      "image/png": "[encoded data removed]",
      "text/plain": [
       "<matplotlib.figure.Figure at 0x15a571b00>"
      ]
     },
     "metadata": {},
     "output_type": "display_data"
    }
   ],
   "source": [
    "import matplotlib.pyplot as plt\n",
    "%matplotlib inline\n",
    "tag_fd.plot()"
   ]
  },
  {
   "cell_type": "code",
   "execution_count": null,
   "metadata": {
    "collapsed": true
   },
   "outputs": [],
   "source": []
  }
 ],
 "metadata": {
  "anaconda-cloud": {},
  "kernelspec": {
   "display_name": "Python [conda env:signpost-tags]",
   "language": "python",
   "name": "conda-env-signpost-tags-py"
  }
 },
 "nbformat": 4,
 "nbformat_minor": 1
}
